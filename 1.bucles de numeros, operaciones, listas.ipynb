{
 "cells": [
  {
   "cell_type": "code",
   "execution_count": 79,
   "metadata": {},
   "outputs": [
    {
     "name": "stdout",
     "output_type": "stream",
     "text": [
      "hoola mundo\n",
      "manu manu\n"
     ]
    }
   ],
   "source": [
    "print (\"hoola mundo\"); print (\"manu manu\")"
   ]
  },
  {
   "cell_type": "code",
   "execution_count": 4,
   "metadata": {},
   "outputs": [
    {
     "name": "stdout",
     "output_type": "stream",
     "text": [
      "w\n",
      "w\n"
     ]
    }
   ],
   "source": []
  },
  {
   "cell_type": "code",
   "execution_count": 1,
   "metadata": {},
   "outputs": [
    {
     "name": "stdout",
     "output_type": "stream",
     "text": [
      "uicab\n"
     ]
    }
   ],
   "source": [
    "print(\"uicab\")"
   ]
  },
  {
   "cell_type": "code",
   "execution_count": 3,
   "metadata": {},
   "outputs": [
    {
     "data": {
      "text/plain": [
       "'mi nombre es uicab'"
      ]
     },
     "execution_count": 3,
     "metadata": {},
     "output_type": "execute_result"
    }
   ],
   "source": [
    "#aqui es manu\n",
    "mi_nombre=\"mi nombre es uicab\"\n",
    "mi_nombre"
   ]
  },
  {
   "cell_type": "code",
   "execution_count": 12,
   "metadata": {},
   "outputs": [
    {
     "data": {
      "text/plain": [
       "'uicab'"
      ]
     },
     "execution_count": 12,
     "metadata": {},
     "output_type": "execute_result"
    }
   ],
   "source": [
    "mi_nombre=\"uicab\"\n",
    "mi_nombre"
   ]
  },
  {
   "cell_type": "code",
   "execution_count": 81,
   "metadata": {
    "scrolled": true
   },
   "outputs": [
    {
     "data": {
      "text/plain": [
       "'mi nombre es Uicab'"
      ]
     },
     "execution_count": 81,
     "metadata": {},
     "output_type": "execute_result"
    }
   ],
   "source": [
    "mi_nombre=\"mi nombre es \\\n",
    "Uicab\"\n",
    "mi_nombre"
   ]
  },
  {
   "cell_type": "code",
   "execution_count": 11,
   "metadata": {},
   "outputs": [
    {
     "name": "stdout",
     "output_type": "stream",
     "text": [
      "amnue\n"
     ]
    },
    {
     "data": {
      "text/plain": [
       "'amnue'"
      ]
     },
     "execution_count": 11,
     "metadata": {},
     "output_type": "execute_result"
    }
   ],
   "source": []
  },
  {
   "cell_type": "code",
   "execution_count": null,
   "metadata": {},
   "outputs": [],
   "source": [
    "#aqui es un bucle"
   ]
  },
  {
   "cell_type": "code",
   "execution_count": 96,
   "metadata": {},
   "outputs": [
    {
     "name": "stdout",
     "output_type": "stream",
     "text": [
      "1\n",
      "2\n",
      "3\n",
      "4\n"
     ]
    }
   ],
   "source": [
    "a=0\n",
    "for i in range(4):\n",
    "    a+=1\n",
    "    print(a)\n"
   ]
  },
  {
   "cell_type": "code",
   "execution_count": 7,
   "metadata": {},
   "outputs": [
    {
     "name": "stdout",
     "output_type": "stream",
     "text": [
      "4\n",
      "7\n",
      "10\n"
     ]
    }
   ],
   "source": [
    "a=1 \n",
    "for i in range(3):\n",
    "    a+=3\n",
    "    print(a)\n"
   ]
  },
  {
   "cell_type": "code",
   "execution_count": 17,
   "metadata": {},
   "outputs": [
    {
     "name": "stdout",
     "output_type": "stream",
     "text": [
      "1\n",
      "2\n",
      "3\n",
      "4\n",
      "5\n",
      "6\n",
      "7\n",
      "8\n",
      "9\n"
     ]
    }
   ],
   "source": [
    "a=0\n",
    "for i in range (9):\n",
    "    a+=1\n",
    "    print(a)"
   ]
  },
  {
   "cell_type": "code",
   "execution_count": 97,
   "metadata": {},
   "outputs": [
    {
     "data": {
      "text/plain": [
       "10"
      ]
     },
     "execution_count": 97,
     "metadata": {},
     "output_type": "execute_result"
    }
   ],
   "source": [
    "5+5"
   ]
  },
  {
   "cell_type": "code",
   "execution_count": 98,
   "metadata": {},
   "outputs": [
    {
     "data": {
      "text/plain": [
       "24"
      ]
     },
     "execution_count": 98,
     "metadata": {},
     "output_type": "execute_result"
    }
   ],
   "source": [
    "6*4"
   ]
  },
  {
   "cell_type": "code",
   "execution_count": 10,
   "metadata": {},
   "outputs": [
    {
     "name": "stdout",
     "output_type": "stream",
     "text": [
      "esto es exponente n.n\n"
     ]
    },
    {
     "data": {
      "text/plain": [
       "125"
      ]
     },
     "execution_count": 10,
     "metadata": {},
     "output_type": "execute_result"
    }
   ],
   "source": [
    "print (\"esto es exponente n.n\")\n",
    "5**3"
   ]
  },
  {
   "cell_type": "code",
   "execution_count": 76,
   "metadata": {},
   "outputs": [
    {
     "data": {
      "text/plain": [
       "4.5"
      ]
     },
     "execution_count": 76,
     "metadata": {},
     "output_type": "execute_result"
    }
   ],
   "source": [
    "9/2"
   ]
  },
  {
   "cell_type": "code",
   "execution_count": 9,
   "metadata": {},
   "outputs": [
    {
     "name": "stdout",
     "output_type": "stream",
     "text": [
      "numero sin decimales n.n\n"
     ]
    },
    {
     "data": {
      "text/plain": [
       "4"
      ]
     },
     "execution_count": 9,
     "metadata": {},
     "output_type": "execute_result"
    }
   ],
   "source": [
    "print (\"numero sin decimales n.n\")\n",
    "9//2"
   ]
  },
  {
   "cell_type": "code",
   "execution_count": null,
   "metadata": {},
   "outputs": [],
   "source": [
    "#aqui estan los tipo de variables decimales: float int: string:"
   ]
  },
  {
   "cell_type": "code",
   "execution_count": 92,
   "metadata": {
    "scrolled": true
   },
   "outputs": [
    {
     "data": {
      "text/plain": [
       "int"
      ]
     },
     "execution_count": 92,
     "metadata": {},
     "output_type": "execute_result"
    }
   ],
   "source": [
    "nombre=5\n",
    "type(nombre)\n"
   ]
  },
  {
   "cell_type": "code",
   "execution_count": 30,
   "metadata": {},
   "outputs": [
    {
     "data": {
      "text/plain": [
       "str"
      ]
     },
     "execution_count": 30,
     "metadata": {},
     "output_type": "execute_result"
    }
   ],
   "source": []
  },
  {
   "cell_type": "code",
   "execution_count": 98,
   "metadata": {},
   "outputs": [
    {
     "data": {
      "text/plain": [
       "str"
      ]
     },
     "execution_count": 98,
     "metadata": {},
     "output_type": "execute_result"
    }
   ],
   "source": [
    "nombre=\"manuel\"\n",
    "type(nombre)"
   ]
  },
  {
   "cell_type": "code",
   "execution_count": 85,
   "metadata": {},
   "outputs": [
    {
     "data": {
      "text/plain": [
       "float"
      ]
     },
     "execution_count": 85,
     "metadata": {},
     "output_type": "execute_result"
    }
   ],
   "source": [
    "nombre=3.3\n",
    "type(nombre)"
   ]
  },
  {
   "cell_type": "code",
   "execution_count": 18,
   "metadata": {},
   "outputs": [
    {
     "data": {
      "text/plain": [
       "str"
      ]
     },
     "execution_count": 18,
     "metadata": {},
     "output_type": "execute_result"
    }
   ],
   "source": [
    " mensaje=\"uicab\"\n",
    "\n"
   ]
  },
  {
   "cell_type": "code",
   "execution_count": 11,
   "metadata": {},
   "outputs": [
    {
     "ename": "SyntaxError",
     "evalue": "invalid syntax (<ipython-input-11-bbcbee6ad0a4>, line 1)",
     "output_type": "error",
     "traceback": [
      "\u001b[1;36m  File \u001b[1;32m\"<ipython-input-11-bbcbee6ad0a4>\"\u001b[1;36m, line \u001b[1;32m1\u001b[0m\n\u001b[1;33m    manu=@\u001b[0m\n\u001b[1;37m         ^\u001b[0m\n\u001b[1;31mSyntaxError\u001b[0m\u001b[1;31m:\u001b[0m invalid syntax\n"
     ]
    }
   ],
   "source": []
  },
  {
   "cell_type": "code",
   "execution_count": 19,
   "metadata": {},
   "outputs": [
    {
     "name": "stdout",
     "output_type": "stream",
     "text": [
      "cumple con que es mayor 1 que que 2\n"
     ]
    }
   ],
   "source": [
    "#aqui utilizamos comparaciones\n",
    "\n",
    "numero1=6\n",
    "numero2=2\n",
    "if numero1>numero2:\n",
    "    print (\"cumple con que es mayor 1 que que 2\")\n",
    "else:\n",
    "    print (\"no cumple que sea mayor 1\")"
   ]
  },
  {
   "cell_type": "code",
   "execution_count": 13,
   "metadata": {},
   "outputs": [
    {
     "name": "stdout",
     "output_type": "stream",
     "text": [
      "r es mayor prro\n"
     ]
    }
   ],
   "source": [
    "s=10\n",
    "r=8\n",
    "if s<r:\n",
    "    print(\"es menor s\")\n",
    "else: \n",
    "    print(\"r es mayor prro\")"
   ]
  },
  {
   "cell_type": "code",
   "execution_count": 32,
   "metadata": {},
   "outputs": [
    {
     "name": "stdout",
     "output_type": "stream",
     "text": [
      "si se puede chamu\n"
     ]
    }
   ],
   "source": [
    "baka=12\n",
    "baka1=9\n",
    "if baka<baka1:\n",
    "    print(\"no se puede realizadr dicha accion\")\n",
    "else:\n",
    "    print(\"si se puede chamu\")"
   ]
  },
  {
   "cell_type": "code",
   "execution_count": 13,
   "metadata": {},
   "outputs": [
    {
     "name": "stdout",
     "output_type": "stream",
     "text": [
      "2\n"
     ]
    },
    {
     "ename": "TypeError",
     "evalue": "'m' is an invalid keyword argument for print()",
     "output_type": "error",
     "traceback": [
      "\u001b[1;31m---------------------------------------------------------------------------\u001b[0m",
      "\u001b[1;31mTypeError\u001b[0m                                 Traceback (most recent call last)",
      "\u001b[1;32m<ipython-input-13-2167be789a1f>\u001b[0m in \u001b[0;36m<module>\u001b[1;34m\u001b[0m\n\u001b[1;32m----> 1\u001b[1;33m \u001b[0mprint\u001b[0m\u001b[1;33m(\u001b[0m\u001b[0mm\u001b[0m\u001b[1;33m=\u001b[0m\u001b[0minput\u001b[0m\u001b[1;33m(\u001b[0m\u001b[1;34m\"\"\u001b[0m\u001b[1;33m)\u001b[0m\u001b[1;33m)\u001b[0m\u001b[1;33m\u001b[0m\u001b[1;33m\u001b[0m\u001b[0m\n\u001b[0m\u001b[0;32m      2\u001b[0m \u001b[0ms\u001b[0m\u001b[1;33m=\u001b[0m\u001b[1;36m4\u001b[0m\u001b[1;33m\u001b[0m\u001b[1;33m\u001b[0m\u001b[0m\n\u001b[0;32m      3\u001b[0m \u001b[1;32mif\u001b[0m \u001b[0mm\u001b[0m\u001b[1;33m<\u001b[0m\u001b[0ms\u001b[0m\u001b[1;33m:\u001b[0m\u001b[1;33m\u001b[0m\u001b[1;33m\u001b[0m\u001b[0m\n\u001b[0;32m      4\u001b[0m     \u001b[0mprint\u001b[0m\u001b[1;33m(\u001b[0m\u001b[1;34m\"es mayor s\"\u001b[0m\u001b[1;33m)\u001b[0m\u001b[1;33m\u001b[0m\u001b[1;33m\u001b[0m\u001b[0m\n\u001b[0;32m      5\u001b[0m \u001b[1;32melse\u001b[0m\u001b[1;33m:\u001b[0m\u001b[1;33m\u001b[0m\u001b[1;33m\u001b[0m\u001b[0m\n",
      "\u001b[1;31mTypeError\u001b[0m: 'm' is an invalid keyword argument for print()"
     ]
    }
   ],
   "source": []
  },
  {
   "cell_type": "code",
   "execution_count": 62,
   "metadata": {
    "scrolled": true
   },
   "outputs": [
    {
     "name": "stdout",
     "output_type": "stream",
     "text": [
      "manuel\n",
      "uicab\n",
      "nahuat\n",
      "manuel\n",
      "uicab\n",
      "nahuat\n",
      "uicabnahuat0404004040\n",
      "manuel\n",
      "uicab\n",
      "nahuat\n"
     ]
    }
   ],
   "source": [
    "# deifiniendo ua clase para bucles\n",
    "def uicab():\n",
    "    print(\"manuel\")\n",
    "    print (\"uicab\")\n",
    "    print (\"nahuat\")\n",
    "uicab()\n",
    "uicab()\n",
    "print (\"uicabnahuat0404004040\")\n",
    "uicab()\n"
   ]
  },
  {
   "cell_type": "code",
   "execution_count": null,
   "metadata": {},
   "outputs": [],
   "source": []
  },
  {
   "cell_type": "code",
   "execution_count": 36,
   "metadata": {},
   "outputs": [
    {
     "name": "stdout",
     "output_type": "stream",
     "text": [
      "7\n",
      "7\n",
      "7\n"
     ]
    }
   ],
   "source": [
    "def suma():\n",
    "    num1=2\n",
    "    num2=5\n",
    "    print(num1+num2) ##sin comillas\n",
    "suma()\n",
    "suma()\n",
    "suma()"
   ]
  },
  {
   "cell_type": "code",
   "execution_count": null,
   "metadata": {},
   "outputs": [],
   "source": []
  },
  {
   "cell_type": "code",
   "execution_count": 110,
   "metadata": {},
   "outputs": [
    {
     "name": "stdout",
     "output_type": "stream",
     "text": [
      "6\n"
     ]
    }
   ],
   "source": [
    "#sumando\n",
    "def suma(num1, num2):\n",
    "    print(num1+num2)\n",
    "suma(2, 4) #se almacena al num1 y num2"
   ]
  },
  {
   "cell_type": "code",
   "execution_count": null,
   "metadata": {},
   "outputs": [],
   "source": []
  },
  {
   "cell_type": "code",
   "execution_count": 124,
   "metadata": {},
   "outputs": [
    {
     "name": "stdout",
     "output_type": "stream",
     "text": [
      "6\n",
      "8\n",
      "43\n"
     ]
    }
   ],
   "source": [
    "def suma(num1, num2):\n",
    "    \n",
    "    resultado=num1+num2\n",
    "    \n",
    "    return resultado\n",
    "\n",
    "print(suma(2, 4))\n",
    "\n",
    "print(suma(2, 6))\n",
    "\n",
    "print(suma(42, 1))"
   ]
  },
  {
   "cell_type": "code",
   "execution_count": 76,
   "metadata": {},
   "outputs": [
    {
     "name": "stdout",
     "output_type": "stream",
     "text": [
      "None\n"
     ]
    }
   ],
   "source": [
    "def sur(a, b):\n",
    "    res=a+b\n",
    "print(sur(4, 5))"
   ]
  },
  {
   "cell_type": "code",
   "execution_count": 147,
   "metadata": {},
   "outputs": [
    {
     "name": "stdout",
     "output_type": "stream",
     "text": [
      "5\n"
     ]
    }
   ],
   "source": [
    "#para hacer programas grandes y volver a llamarlos luego\n",
    "def suma(num1, num2):\n",
    "    resultado=num1+num2\n",
    "    return resultado\n",
    "almacenar_resultado=suma(2, 3)\n",
    "print(almacenar_resultado)"
   ]
  },
  {
   "cell_type": "code",
   "execution_count": 77,
   "metadata": {},
   "outputs": [
    {
     "name": "stdout",
     "output_type": "stream",
     "text": [
      "10\n"
     ]
    }
   ],
   "source": []
  },
  {
   "cell_type": "code",
   "execution_count": 177,
   "metadata": {},
   "outputs": [
    {
     "name": "stdout",
     "output_type": "stream",
     "text": [
      "['baka', 'baka1', 'baka2']\n"
     ]
    }
   ],
   "source": [
    "#hacer llamado de un listado\n",
    "miLista=[\"baka\", \"baka1\", \"baka2\"]\n",
    "print(miLista[:])"
   ]
  },
  {
   "cell_type": "code",
   "execution_count": 87,
   "metadata": {},
   "outputs": [
    {
     "name": "stdout",
     "output_type": "stream",
     "text": [
      "['sj', 'kajhd', 'jhdsv', 'jghd']\n"
     ]
    }
   ],
   "source": []
  },
  {
   "cell_type": "code",
   "execution_count": 47,
   "metadata": {},
   "outputs": [
    {
     "name": "stdout",
     "output_type": "stream",
     "text": [
      "baka2\n"
     ]
    }
   ],
   "source": [
    "miLista=[\"baka\", \"baka1\", \"baka2\"]\n",
    "print(miLista[2])"
   ]
  },
  {
   "cell_type": "code",
   "execution_count": 88,
   "metadata": {},
   "outputs": [
    {
     "name": "stdout",
     "output_type": "stream",
     "text": [
      "jhsj\n"
     ]
    }
   ],
   "source": []
  },
  {
   "cell_type": "code",
   "execution_count": 184,
   "metadata": {},
   "outputs": [
    {
     "name": "stdout",
     "output_type": "stream",
     "text": [
      "baka1\n"
     ]
    }
   ],
   "source": [
    "#cuenta alreves sin cero sin contemplarlo\n",
    "miLista=[\"baka\", \"baka1\", \"baka2\"]\n",
    "print(miLista[-2])"
   ]
  },
  {
   "cell_type": "code",
   "execution_count": 89,
   "metadata": {},
   "outputs": [
    {
     "name": "stdout",
     "output_type": "stream",
     "text": [
      "['mesa', 'coche']\n"
     ]
    }
   ],
   "source": [
    "#acceder a solo una porcion de la lista perimer numero llama de dercha a izquierda y el segundo de izquierda a derecha\n",
    "miLista=[\"silla\", \"mesa\", \"coche\", \"autobus\", \"sillon\"]\n",
    "print(miLista[1:3])"
   ]
  },
  {
   "cell_type": "code",
   "execution_count": 91,
   "metadata": {},
   "outputs": [
    {
     "name": "stdout",
     "output_type": "stream",
     "text": [
      "['silla', 'mesa', 'coche']\n"
     ]
    }
   ],
   "source": [
    "#acceder a solo una porcion de la lista\n",
    "miLista=[\"silla\", \"mesa\", \"coche\", \"autobus\", \"sillon\"]\n",
    "print(miLista[:3])"
   ]
  },
  {
   "cell_type": "code",
   "execution_count": null,
   "metadata": {},
   "outputs": [],
   "source": []
  },
  {
   "cell_type": "code",
   "execution_count": 93,
   "metadata": {},
   "outputs": [
    {
     "name": "stdout",
     "output_type": "stream",
     "text": [
      "['coche', 'autobus', 'sillon', 'gallina', 'oso']\n"
     ]
    }
   ],
   "source": [
    "#acceder a solo una porcion de la lista\n",
    "miLista=[\"silla\", \"mesa\", \"coche\", \"autobus\", \"sillon\", \"gallina\",\"oso\"]\n",
    "print(miLista[2:])"
   ]
  },
  {
   "cell_type": "code",
   "execution_count": 102,
   "metadata": {},
   "outputs": [
    {
     "name": "stdout",
     "output_type": "stream",
     "text": [
      "['autobus', 'baka', 'manu', 'mesa', 'silla', 'casaprro']\n"
     ]
    }
   ],
   "source": [
    "#incerta en el centro uno mas\n",
    "miLista=[\"autobus\", \"baka\", \"mesa\", \"silla\",\"casa\" \"prro\"]\n",
    "miLista.insert(2,\"manu\")\n",
    "print(miLista[:])\n",
    "         "
   ]
  },
  {
   "cell_type": "code",
   "execution_count": 94,
   "metadata": {},
   "outputs": [
    {
     "name": "stdout",
     "output_type": "stream",
     "text": [
      "['sss', 'kj', 'k', 'kjhs', 'sljd']\n"
     ]
    }
   ],
   "source": []
  },
  {
   "cell_type": "code",
   "execution_count": 104,
   "metadata": {},
   "outputs": [
    {
     "name": "stdout",
     "output_type": "stream",
     "text": [
      "['autobus', 'baka', 'mesa', 'silla', 'casaprro', 'manu']\n"
     ]
    }
   ],
   "source": [
    "#incerta en el final uno mas\n",
    "miLista=[\"autobus\", \"baka\", \"mesa\", \"silla\",\"casa\" \"prro\"]\n",
    "miLista.append(\"manu\")\n",
    "print(miLista[:])"
   ]
  },
  {
   "cell_type": "code",
   "execution_count": 97,
   "metadata": {},
   "outputs": [
    {
     "name": "stdout",
     "output_type": "stream",
     "text": [
      "['nxb', 'jkh', 'dk', 'fsd']\n"
     ]
    }
   ],
   "source": []
  },
  {
   "cell_type": "code",
   "execution_count": 30,
   "metadata": {},
   "outputs": [
    {
     "name": "stdout",
     "output_type": "stream",
     "text": [
      "['sos', 'uicab', 'mesa', 'manuel', 'prro', 'laptop', 'silla']\n"
     ]
    }
   ],
   "source": [
    "#icertar elementos a la lista original\n",
    "miLista=[\"sos\", \"uicab\", \"mesa\"]\n",
    "miLista.extend([\"manuel\", \"prro\", \"laptop\", \"silla\"])\n",
    "print(miLista[:])"
   ]
  },
  {
   "cell_type": "code",
   "execution_count": 98,
   "metadata": {},
   "outputs": [
    {
     "name": "stdout",
     "output_type": "stream",
     "text": [
      "['SD', 'Sdsf', 'skdj', 'alkjd', 'skj']\n"
     ]
    }
   ],
   "source": []
  },
  {
   "cell_type": "code",
   "execution_count": 114,
   "metadata": {},
   "outputs": [
    {
     "name": "stdout",
     "output_type": "stream",
     "text": [
      "6\n"
     ]
    }
   ],
   "source": [
    "\n",
    "#saber donde esta el elemento osea el indice prro\n",
    "miLista=[\"sos\", \"uicab\", \"mesa\"]\n",
    "miLista.extend([\"manuel\", \"prro\", \"laptop\", \"silla\"])\n",
    "print(miLista.index(\"silla\"))\n"
   ]
  },
  {
   "cell_type": "code",
   "execution_count": 100,
   "metadata": {},
   "outputs": [
    {
     "name": "stdout",
     "output_type": "stream",
     "text": [
      "0\n"
     ]
    }
   ],
   "source": []
  },
  {
   "cell_type": "code",
   "execution_count": 9,
   "metadata": {},
   "outputs": [
    {
     "name": "stdout",
     "output_type": "stream",
     "text": [
      "True\n"
     ]
    }
   ],
   "source": [
    "#elemento que permite sbaer si un elemento esta en la lista o no\n",
    "miLista=[\"sos\", \"uicab\", \"mesa\"]\n",
    "miLista.extend([\"manuel\", \"prro\", \"laptop\", \"silla\"])\n",
    "print(\"mesa\" in miLista)"
   ]
  },
  {
   "cell_type": "code",
   "execution_count": 101,
   "metadata": {},
   "outputs": [
    {
     "name": "stdout",
     "output_type": "stream",
     "text": [
      "True\n"
     ]
    }
   ],
   "source": []
  },
  {
   "cell_type": "code",
   "execution_count": 128,
   "metadata": {},
   "outputs": [
    {
     "name": "stdout",
     "output_type": "stream",
     "text": [
      "true\n"
     ]
    }
   ],
   "source": [
    "#imprimir un solo elemento\n",
    "miLista=[\"sos\", \"7\", \"true\"]\n",
    "print(miLista[2])"
   ]
  },
  {
   "cell_type": "code",
   "execution_count": 106,
   "metadata": {},
   "outputs": [
    {
     "name": "stdout",
     "output_type": "stream",
     "text": [
      "skjdh\n"
     ]
    }
   ],
   "source": [
    "g=[\"dffd\", \"fjdkn\", \"skjdh\"]\n",
    "g.extend([\"slduhg\"])\n",
    "print(g[2])"
   ]
  },
  {
   "cell_type": "code",
   "execution_count": 157,
   "metadata": {},
   "outputs": [
    {
     "name": "stdout",
     "output_type": "stream",
     "text": [
      "['sos', 5.3]\n"
     ]
    }
   ],
   "source": [
    "#remover un elemento(solo lo remueve sin comillas)\n",
    "miLista=[\"sos\", 5, 5.3,]\n",
    "miLista.remove(5)\n",
    "print(miLista[:])"
   ]
  },
  {
   "cell_type": "code",
   "execution_count": 109,
   "metadata": {},
   "outputs": [
    {
     "name": "stdout",
     "output_type": "stream",
     "text": [
      "['sdsd', 21, 32, 23]\n"
     ]
    }
   ],
   "source": [
    "g=[\"sdsd\", 2, 21, 32, 23]\n",
    "g.remove(2)\n",
    "print(g[:])"
   ]
  },
  {
   "cell_type": "code",
   "execution_count": 163,
   "metadata": {},
   "outputs": [
    {
     "name": "stdout",
     "output_type": "stream",
     "text": [
      "['sos', 5]\n"
     ]
    }
   ],
   "source": [
    "#remover un ultimo elemento\n",
    "miLista=[\"sos\", 5, 5.3,]\n",
    "miLista.pop()\n",
    "print(miLista[:])"
   ]
  },
  {
   "cell_type": "code",
   "execution_count": 110,
   "metadata": {},
   "outputs": [
    {
     "name": "stdout",
     "output_type": "stream",
     "text": [
      "['sos', 5]\n"
     ]
    }
   ],
   "source": []
  },
  {
   "cell_type": "code",
   "execution_count": 171,
   "metadata": {},
   "outputs": [
    {
     "name": "stdout",
     "output_type": "stream",
     "text": [
      "('uicab', 'nariz', 'dulce', 'manu', 'uicab', 'nahuat')\n"
     ]
    }
   ],
   "source": [
    "#unir dos listas diferentes\n",
    "miLista=(\"uicab\", \"nariz\", \"dulce\")\n",
    "miLista2=(\"manu\", \"uicab\",\"nahuat\")\n",
    "miLista3=miLista+miLista2\n",
    "\n",
    "print(miLista3[:])"
   ]
  },
  {
   "cell_type": "code",
   "execution_count": 177,
   "metadata": {},
   "outputs": [
    {
     "name": "stdout",
     "output_type": "stream",
     "text": [
      "('dulce', 'teclado', 'uicab', 'tigre', 'dulce', 'teclado', 'uicab', 'tigre', 'dulce', 'teclado', 'uicab', 'tigre')\n"
     ]
    }
   ],
   "source": [
    "uicab=(\"dulce\", \"teclado\", \"uicab\", \"tigre\") *3\n",
    "print(uicab)\n"
   ]
  },
  {
   "cell_type": "code",
   "execution_count": 10,
   "metadata": {},
   "outputs": [
    {
     "name": "stdout",
     "output_type": "stream",
     "text": [
      "('te', 'dulce', 'te', 'dulce', 'te', 'dulce', 'te', 'dulce', 'te', 'dulce', 'te', 'dulce', 'te', 'dulce', 'te', 'dulce', 'te', 'dulce', 'te', 'dulce', 'te', 'dulce', 'te', 'dulce', 'te', 'dulce', 'te', 'dulce', 'te', 'dulce', 'te', 'dulce', 'te', 'dulce', 'te', 'dulce', 'te', 'dulce', 'te', 'dulce', 'te', 'dulce', 'te', 'dulce', 'te', 'dulce')\n"
     ]
    }
   ],
   "source": [
    "uicab=(\"te\", \"dulce\") *23\n",
    "print(uicab[:])"
   ]
  },
  {
   "cell_type": "code",
   "execution_count": null,
   "metadata": {},
   "outputs": [],
   "source": [
    "r=[\"skjhb\", \"kdk\", \"kk\"] *30000000\n",
    "print(r)"
   ]
  },
  {
   "cell_type": "code",
   "execution_count": 25,
   "metadata": {},
   "outputs": [
    {
     "name": "stdout",
     "output_type": "stream",
     "text": [
      "['smd', 'd']\n"
     ]
    }
   ],
   "source": []
  },
  {
   "cell_type": "code",
   "execution_count": null,
   "metadata": {},
   "outputs": [],
   "source": []
  }
 ],
 "metadata": {
  "kernelspec": {
   "display_name": "Python 3",
   "language": "python",
   "name": "python3"
  },
  "language_info": {
   "codemirror_mode": {
    "name": "ipython",
    "version": 3
   },
   "file_extension": ".py",
   "mimetype": "text/x-python",
   "name": "python",
   "nbconvert_exporter": "python",
   "pygments_lexer": "ipython3",
   "version": "3.7.4"
  }
 },
 "nbformat": 4,
 "nbformat_minor": 2
}
