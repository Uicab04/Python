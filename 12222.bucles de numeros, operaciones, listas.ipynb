{
  "cells": [
    {
      "cell_type": "code",
      "execution_count": null,
      "metadata": {
        "id": "f-lhQ5ovcori",
        "outputId": "efafe926-8fe6-4f43-d897-a4296bb59f21"
      },
      "outputs": [
        {
          "name": "stdout",
          "output_type": "stream",
          "text": [
            "hoola mundo\n",
            "manu manu\n"
          ]
        }
      ],
      "source": [
        "print (\"hoola mundo\"); print (\"manu manu\")"
      ]
    },
    {
      "cell_type": "code",
      "execution_count": null,
      "metadata": {
        "id": "XmmnI2wncors",
        "outputId": "3875bb01-dad0-4d0c-b982-132b55e35ba5"
      },
      "outputs": [
        {
          "name": "stdout",
          "output_type": "stream",
          "text": [
            "w\n",
            "w\n"
          ]
        }
      ],
      "source": []
    },
    {
      "cell_type": "code",
      "execution_count": null,
      "metadata": {
        "id": "NoZ1JPw7cort",
        "outputId": "d79215f6-116b-4fc9-f11a-2e89e4d4959d"
      },
      "outputs": [
        {
          "name": "stdout",
          "output_type": "stream",
          "text": [
            "uicab\n"
          ]
        }
      ],
      "source": [
        "print(\"uicab\")"
      ]
    },
    {
      "cell_type": "code",
      "execution_count": null,
      "metadata": {
        "id": "rJ-30IU2corw",
        "outputId": "9cb4f70b-39ba-4220-ea14-19d3e9fce34b"
      },
      "outputs": [
        {
          "data": {
            "text/plain": [
              "'mi nombre es uicab'"
            ]
          },
          "execution_count": 3,
          "metadata": {},
          "output_type": "execute_result"
        }
      ],
      "source": [
        "#aqui es manu\n",
        "mi_nombre=\"mi nombre es uicab\"\n",
        "mi_nombre"
      ]
    },
    {
      "cell_type": "code",
      "execution_count": null,
      "metadata": {
        "id": "njqPyMCwcory",
        "outputId": "a6d78220-1ae3-4f62-c523-7b4a1f7411a3"
      },
      "outputs": [
        {
          "data": {
            "text/plain": [
              "'uicab'"
            ]
          },
          "execution_count": 12,
          "metadata": {},
          "output_type": "execute_result"
        }
      ],
      "source": [
        "mi_nombre=\"uicab\"\n",
        "mi_nombre"
      ]
    },
    {
      "cell_type": "code",
      "execution_count": null,
      "metadata": {
        "scrolled": true,
        "id": "Hh78JuU5corz",
        "outputId": "840903c1-7391-421a-b0e9-99d299ea449d"
      },
      "outputs": [
        {
          "data": {
            "text/plain": [
              "'mi nombre es Uicab'"
            ]
          },
          "execution_count": 81,
          "metadata": {},
          "output_type": "execute_result"
        }
      ],
      "source": [
        "mi_nombre=\"mi nombre es \\\n",
        "Uicab\"\n",
        "mi_nombre"
      ]
    },
    {
      "cell_type": "code",
      "execution_count": null,
      "metadata": {
        "id": "s95sBnxYcor1",
        "outputId": "f9a0fb02-0311-4e54-e294-7ed93c93c09a"
      },
      "outputs": [
        {
          "name": "stdout",
          "output_type": "stream",
          "text": [
            "amnue\n"
          ]
        },
        {
          "data": {
            "text/plain": [
              "'amnue'"
            ]
          },
          "execution_count": 11,
          "metadata": {},
          "output_type": "execute_result"
        }
      ],
      "source": []
    },
    {
      "cell_type": "code",
      "execution_count": null,
      "metadata": {
        "id": "BAm4aqQDcor3"
      },
      "outputs": [],
      "source": [
        "#aqui es un bucle"
      ]
    },
    {
      "cell_type": "code",
      "execution_count": null,
      "metadata": {
        "id": "YQzQr9Z5cor5",
        "outputId": "643d63ea-5432-49c2-9786-554d836f68ec"
      },
      "outputs": [
        {
          "name": "stdout",
          "output_type": "stream",
          "text": [
            "1\n",
            "2\n",
            "3\n",
            "4\n"
          ]
        }
      ],
      "source": [
        "a=0\n",
        "for i in range(4):\n",
        "    a+=1\n",
        "    print(a)\n"
      ]
    },
    {
      "cell_type": "code",
      "execution_count": null,
      "metadata": {
        "id": "w6Rf9J31cor7",
        "outputId": "866a22a9-5f7c-493f-c0a3-9efe894b2484"
      },
      "outputs": [
        {
          "name": "stdout",
          "output_type": "stream",
          "text": [
            "4\n",
            "7\n",
            "10\n"
          ]
        }
      ],
      "source": [
        "a=1\n",
        "for i in range(3):\n",
        "    a+=3\n",
        "    print(a)\n"
      ]
    },
    {
      "cell_type": "code",
      "execution_count": null,
      "metadata": {
        "id": "qCiMClvMcor9",
        "outputId": "c59462f3-e004-4011-e288-2955276c33fd"
      },
      "outputs": [
        {
          "name": "stdout",
          "output_type": "stream",
          "text": [
            "1\n",
            "2\n",
            "3\n",
            "4\n",
            "5\n",
            "6\n",
            "7\n",
            "8\n",
            "9\n"
          ]
        }
      ],
      "source": [
        "a=0\n",
        "for i in range (9):\n",
        "    a+=1\n",
        "    print(a)"
      ]
    },
    {
      "cell_type": "code",
      "execution_count": null,
      "metadata": {
        "id": "kPygHm3PcosA",
        "outputId": "be369fab-2a42-400a-c9b6-6d9923939333"
      },
      "outputs": [
        {
          "data": {
            "text/plain": [
              "10"
            ]
          },
          "execution_count": 97,
          "metadata": {},
          "output_type": "execute_result"
        }
      ],
      "source": [
        "5+5"
      ]
    },
    {
      "cell_type": "code",
      "execution_count": null,
      "metadata": {
        "id": "R2HfDGGTcosB",
        "outputId": "724fae84-afe3-462f-e0eb-819dbf82847b"
      },
      "outputs": [
        {
          "data": {
            "text/plain": [
              "24"
            ]
          },
          "execution_count": 98,
          "metadata": {},
          "output_type": "execute_result"
        }
      ],
      "source": [
        "6*4"
      ]
    },
    {
      "cell_type": "code",
      "execution_count": null,
      "metadata": {
        "id": "-jafEVglcosC",
        "outputId": "424dec84-0ce2-495e-d21c-0383e8098fd5"
      },
      "outputs": [
        {
          "name": "stdout",
          "output_type": "stream",
          "text": [
            "esto es exponente n.n\n"
          ]
        },
        {
          "data": {
            "text/plain": [
              "125"
            ]
          },
          "execution_count": 10,
          "metadata": {},
          "output_type": "execute_result"
        }
      ],
      "source": [
        "print (\"esto es exponente n.n\")\n",
        "5**3"
      ]
    },
    {
      "cell_type": "code",
      "execution_count": null,
      "metadata": {
        "id": "4Eygx7FOcosC",
        "outputId": "d3e7b4b1-c25d-4d2c-9593-4d75b13207f7"
      },
      "outputs": [
        {
          "data": {
            "text/plain": [
              "4.5"
            ]
          },
          "execution_count": 76,
          "metadata": {},
          "output_type": "execute_result"
        }
      ],
      "source": [
        "9/2"
      ]
    },
    {
      "cell_type": "code",
      "execution_count": null,
      "metadata": {
        "id": "Gvz-rYMtcosI",
        "outputId": "257fa543-d429-49f2-8215-cbc738bc7199"
      },
      "outputs": [
        {
          "name": "stdout",
          "output_type": "stream",
          "text": [
            "numero sin decimales n.n\n"
          ]
        },
        {
          "data": {
            "text/plain": [
              "4"
            ]
          },
          "execution_count": 9,
          "metadata": {},
          "output_type": "execute_result"
        }
      ],
      "source": [
        "print (\"numero sin decimales n.n\")\n",
        "9//2"
      ]
    },
    {
      "cell_type": "code",
      "execution_count": null,
      "metadata": {
        "id": "qe_f4v5gcosJ"
      },
      "outputs": [],
      "source": [
        "#aqui estan los tipo de variables decimales: float int: string:"
      ]
    },
    {
      "cell_type": "code",
      "execution_count": null,
      "metadata": {
        "scrolled": true,
        "id": "rbZ7NhC6cosK",
        "outputId": "6621a045-4418-46f5-b496-b00ad48e0b3e"
      },
      "outputs": [
        {
          "data": {
            "text/plain": [
              "int"
            ]
          },
          "execution_count": 92,
          "metadata": {},
          "output_type": "execute_result"
        }
      ],
      "source": [
        "nombre=5\n",
        "type(nombre)\n"
      ]
    },
    {
      "cell_type": "code",
      "execution_count": null,
      "metadata": {
        "id": "uSrlL-PUcosK",
        "outputId": "1ec1e11b-a02d-42fb-c4a0-66bf8f7d8fdb"
      },
      "outputs": [
        {
          "data": {
            "text/plain": [
              "str"
            ]
          },
          "execution_count": 30,
          "metadata": {},
          "output_type": "execute_result"
        }
      ],
      "source": []
    },
    {
      "cell_type": "code",
      "execution_count": null,
      "metadata": {
        "id": "9uAfcSjrcosL",
        "outputId": "c76f8c4b-ebfe-44d1-ba2f-545043e7a74c"
      },
      "outputs": [
        {
          "data": {
            "text/plain": [
              "str"
            ]
          },
          "execution_count": 98,
          "metadata": {},
          "output_type": "execute_result"
        }
      ],
      "source": [
        "nombre=\"manuel\"\n",
        "type(nombre)"
      ]
    },
    {
      "cell_type": "code",
      "execution_count": null,
      "metadata": {
        "id": "GxtdBQYicosM",
        "outputId": "3a9cf9dc-8fb0-414a-d68d-7af391f0beb0"
      },
      "outputs": [
        {
          "data": {
            "text/plain": [
              "float"
            ]
          },
          "execution_count": 85,
          "metadata": {},
          "output_type": "execute_result"
        }
      ],
      "source": [
        "nombre=3.3\n",
        "type(nombre)"
      ]
    },
    {
      "cell_type": "code",
      "execution_count": null,
      "metadata": {
        "id": "b5e6SqTKcosN",
        "outputId": "9ada9637-fa25-481f-d47d-b627af01dfbf"
      },
      "outputs": [
        {
          "data": {
            "text/plain": [
              "str"
            ]
          },
          "execution_count": 18,
          "metadata": {},
          "output_type": "execute_result"
        }
      ],
      "source": [
        " mensaje=\"uicab\"\n",
        "\n"
      ]
    },
    {
      "cell_type": "code",
      "execution_count": null,
      "metadata": {
        "id": "saNnz-5DcosO",
        "outputId": "df80afbc-a0a5-4036-fb97-961adcd5cae6"
      },
      "outputs": [
        {
          "ename": "SyntaxError",
          "evalue": "invalid syntax (<ipython-input-11-bbcbee6ad0a4>, line 1)",
          "output_type": "error",
          "traceback": [
            "\u001b[1;36m  File \u001b[1;32m\"<ipython-input-11-bbcbee6ad0a4>\"\u001b[1;36m, line \u001b[1;32m1\u001b[0m\n\u001b[1;33m    manu=@\u001b[0m\n\u001b[1;37m         ^\u001b[0m\n\u001b[1;31mSyntaxError\u001b[0m\u001b[1;31m:\u001b[0m invalid syntax\n"
          ]
        }
      ],
      "source": []
    },
    {
      "cell_type": "code",
      "execution_count": null,
      "metadata": {
        "id": "Kk_6BMhxcosO",
        "outputId": "f718dae9-d358-46c2-96c6-7c969904749f"
      },
      "outputs": [
        {
          "name": "stdout",
          "output_type": "stream",
          "text": [
            "cumple con que es mayor 1 que que 2\n"
          ]
        }
      ],
      "source": [
        "#aqui utilizamos comparaciones\n",
        "\n",
        "numero1=6\n",
        "numero2=2\n",
        "if numero1>numero2:\n",
        "    print (\"cumple con que es mayor 1 que que 2\")\n",
        "else:\n",
        "    print (\"no cumple que sea mayor 1\")"
      ]
    },
    {
      "cell_type": "code",
      "execution_count": null,
      "metadata": {
        "id": "oCbmy_fdcosP",
        "outputId": "0458a054-571d-410e-8a81-018fb9007ba2"
      },
      "outputs": [
        {
          "name": "stdout",
          "output_type": "stream",
          "text": [
            "r es mayor prro\n"
          ]
        }
      ],
      "source": [
        "s=10\n",
        "r=8\n",
        "if s<r:\n",
        "    print(\"es menor s\")\n",
        "else:\n",
        "    print(\"r es mayor prro\")"
      ]
    },
    {
      "cell_type": "code",
      "execution_count": null,
      "metadata": {
        "id": "2onWW0V0cosR",
        "outputId": "76d79bd7-2b7c-4fa6-d00d-48d89b592a1e"
      },
      "outputs": [
        {
          "name": "stdout",
          "output_type": "stream",
          "text": [
            "si se puede chamu\n"
          ]
        }
      ],
      "source": [
        "baka=12\n",
        "baka1=9\n",
        "if baka<baka1:\n",
        "    print(\"no se puede realizadr dicha accion\")\n",
        "else:\n",
        "    print(\"si se puede chamu\")"
      ]
    },
    {
      "cell_type": "code",
      "execution_count": null,
      "metadata": {
        "id": "OIKfXhLDcosS",
        "outputId": "6f6ae44d-2964-44f6-805c-ab3268dd7cb5"
      },
      "outputs": [
        {
          "name": "stdout",
          "output_type": "stream",
          "text": [
            "2\n"
          ]
        },
        {
          "ename": "TypeError",
          "evalue": "'m' is an invalid keyword argument for print()",
          "output_type": "error",
          "traceback": [
            "\u001b[1;31m---------------------------------------------------------------------------\u001b[0m",
            "\u001b[1;31mTypeError\u001b[0m                                 Traceback (most recent call last)",
            "\u001b[1;32m<ipython-input-13-2167be789a1f>\u001b[0m in \u001b[0;36m<module>\u001b[1;34m\u001b[0m\n\u001b[1;32m----> 1\u001b[1;33m \u001b[0mprint\u001b[0m\u001b[1;33m(\u001b[0m\u001b[0mm\u001b[0m\u001b[1;33m=\u001b[0m\u001b[0minput\u001b[0m\u001b[1;33m(\u001b[0m\u001b[1;34m\"\"\u001b[0m\u001b[1;33m)\u001b[0m\u001b[1;33m)\u001b[0m\u001b[1;33m\u001b[0m\u001b[1;33m\u001b[0m\u001b[0m\n\u001b[0m\u001b[0;32m      2\u001b[0m \u001b[0ms\u001b[0m\u001b[1;33m=\u001b[0m\u001b[1;36m4\u001b[0m\u001b[1;33m\u001b[0m\u001b[1;33m\u001b[0m\u001b[0m\n\u001b[0;32m      3\u001b[0m \u001b[1;32mif\u001b[0m \u001b[0mm\u001b[0m\u001b[1;33m<\u001b[0m\u001b[0ms\u001b[0m\u001b[1;33m:\u001b[0m\u001b[1;33m\u001b[0m\u001b[1;33m\u001b[0m\u001b[0m\n\u001b[0;32m      4\u001b[0m     \u001b[0mprint\u001b[0m\u001b[1;33m(\u001b[0m\u001b[1;34m\"es mayor s\"\u001b[0m\u001b[1;33m)\u001b[0m\u001b[1;33m\u001b[0m\u001b[1;33m\u001b[0m\u001b[0m\n\u001b[0;32m      5\u001b[0m \u001b[1;32melse\u001b[0m\u001b[1;33m:\u001b[0m\u001b[1;33m\u001b[0m\u001b[1;33m\u001b[0m\u001b[0m\n",
            "\u001b[1;31mTypeError\u001b[0m: 'm' is an invalid keyword argument for print()"
          ]
        }
      ],
      "source": []
    },
    {
      "cell_type": "code",
      "execution_count": null,
      "metadata": {
        "scrolled": true,
        "id": "a-iw5wbecosT",
        "outputId": "cd9d5c79-cc80-41cd-8359-0b5873bf0561"
      },
      "outputs": [
        {
          "name": "stdout",
          "output_type": "stream",
          "text": [
            "manuel\n",
            "uicab\n",
            "nahuat\n",
            "manuel\n",
            "uicab\n",
            "nahuat\n",
            "uicabnahuat0404004040\n",
            "manuel\n",
            "uicab\n",
            "nahuat\n"
          ]
        }
      ],
      "source": [
        "# deifiniendo ua clase para bucles\n",
        "def uicab():\n",
        "    print(\"manuel\")\n",
        "    print (\"uicab\")\n",
        "    print (\"nahuat\")\n",
        "uicab()\n",
        "uicab()\n",
        "print (\"uicabnahuat0404004040\")\n",
        "uicab()\n"
      ]
    },
    {
      "cell_type": "code",
      "execution_count": null,
      "metadata": {
        "id": "szy8tpBZcosU"
      },
      "outputs": [],
      "source": []
    },
    {
      "cell_type": "code",
      "execution_count": null,
      "metadata": {
        "id": "ooCpST58cosU",
        "outputId": "6304fe09-9935-4d7e-d3dd-c1c80dcf66ac"
      },
      "outputs": [
        {
          "name": "stdout",
          "output_type": "stream",
          "text": [
            "7\n",
            "7\n",
            "7\n"
          ]
        }
      ],
      "source": [
        "def suma():\n",
        "    num1=2\n",
        "    num2=5\n",
        "    print(num1+num2) ##sin comillas\n",
        "suma()\n",
        "suma()\n",
        "suma()"
      ]
    },
    {
      "cell_type": "code",
      "execution_count": null,
      "metadata": {
        "id": "Asdq9TIqcosV"
      },
      "outputs": [],
      "source": []
    },
    {
      "cell_type": "code",
      "execution_count": null,
      "metadata": {
        "id": "a_ToNJiwcosV",
        "outputId": "0d563bbf-503c-4a53-feed-3840085fd72e"
      },
      "outputs": [
        {
          "name": "stdout",
          "output_type": "stream",
          "text": [
            "6\n"
          ]
        }
      ],
      "source": [
        "#sumando\n",
        "def suma(num1, num2):\n",
        "    print(num1+num2)\n",
        "suma(2, 4) #se almacena al num1 y num2"
      ]
    },
    {
      "cell_type": "code",
      "execution_count": null,
      "metadata": {
        "id": "0WAHxjMkcosW"
      },
      "outputs": [],
      "source": []
    },
    {
      "cell_type": "code",
      "execution_count": null,
      "metadata": {
        "id": "Qlt7hNlzcosW",
        "outputId": "53cd184c-a2e1-4c43-9292-6e60dd7eb71e"
      },
      "outputs": [
        {
          "name": "stdout",
          "output_type": "stream",
          "text": [
            "6\n",
            "8\n",
            "43\n"
          ]
        }
      ],
      "source": [
        "def suma(num1, num2):\n",
        "\n",
        "    resultado=num1+num2\n",
        "\n",
        "    return resultado\n",
        "\n",
        "print(suma(2, 4))\n",
        "\n",
        "print(suma(2, 6))\n",
        "\n",
        "print(suma(42, 1))"
      ]
    },
    {
      "cell_type": "code",
      "execution_count": null,
      "metadata": {
        "id": "CaFNMrmVcosX",
        "outputId": "1a2c3824-6be7-41ca-ffe2-e794f9fed6cd"
      },
      "outputs": [
        {
          "name": "stdout",
          "output_type": "stream",
          "text": [
            "None\n"
          ]
        }
      ],
      "source": [
        "def sur(a, b):\n",
        "    res=a+b\n",
        "print(sur(4, 5))"
      ]
    },
    {
      "cell_type": "code",
      "execution_count": null,
      "metadata": {
        "id": "_5KxnjFccosY",
        "outputId": "c893e6a9-6b2e-405c-8443-10ce8ebfa89b"
      },
      "outputs": [
        {
          "name": "stdout",
          "output_type": "stream",
          "text": [
            "5\n"
          ]
        }
      ],
      "source": [
        "#para hacer programas grandes y volver a llamarlos luego\n",
        "def suma(num1, num2):\n",
        "    resultado=num1+num2\n",
        "    return resultado\n",
        "almacenar_resultado=suma(2, 3)\n",
        "print(almacenar_resultado)"
      ]
    },
    {
      "cell_type": "code",
      "execution_count": null,
      "metadata": {
        "id": "unPoUmqXcosY",
        "outputId": "a66688b3-0168-4c34-9d3d-2318c14f7107"
      },
      "outputs": [
        {
          "name": "stdout",
          "output_type": "stream",
          "text": [
            "10\n"
          ]
        }
      ],
      "source": []
    },
    {
      "cell_type": "code",
      "execution_count": null,
      "metadata": {
        "id": "KxJvKRLIcosZ",
        "outputId": "9c9943bd-e9bc-41f9-9804-a497379346ad"
      },
      "outputs": [
        {
          "name": "stdout",
          "output_type": "stream",
          "text": [
            "['baka', 'baka1', 'baka2']\n"
          ]
        }
      ],
      "source": [
        "#hacer llamado de un listado\n",
        "miLista=[\"baka\", \"baka1\", \"baka2\"]\n",
        "print(miLista[:])"
      ]
    },
    {
      "cell_type": "code",
      "execution_count": null,
      "metadata": {
        "id": "a-7FnQlNcosZ",
        "outputId": "f649097c-14de-4dc8-957c-d6044b578751"
      },
      "outputs": [
        {
          "name": "stdout",
          "output_type": "stream",
          "text": [
            "['sj', 'kajhd', 'jhdsv', 'jghd']\n"
          ]
        }
      ],
      "source": []
    },
    {
      "cell_type": "code",
      "execution_count": null,
      "metadata": {
        "id": "0EteKT0rcosl",
        "outputId": "d20f47af-ca15-475c-e6d5-20c064441935"
      },
      "outputs": [
        {
          "name": "stdout",
          "output_type": "stream",
          "text": [
            "baka2\n"
          ]
        }
      ],
      "source": [
        "miLista=[\"baka\", \"baka1\", \"baka2\"]\n",
        "print(miLista[2])"
      ]
    },
    {
      "cell_type": "code",
      "execution_count": null,
      "metadata": {
        "id": "gU8wz2GDcosm",
        "outputId": "27c6445f-fd27-406d-d896-f8c00eb29eb6"
      },
      "outputs": [
        {
          "name": "stdout",
          "output_type": "stream",
          "text": [
            "jhsj\n"
          ]
        }
      ],
      "source": []
    },
    {
      "cell_type": "code",
      "execution_count": null,
      "metadata": {
        "id": "lB6t4QqXcosm",
        "outputId": "24c212c5-c9c4-4b8c-f046-4bf4941af493"
      },
      "outputs": [
        {
          "name": "stdout",
          "output_type": "stream",
          "text": [
            "baka1\n"
          ]
        }
      ],
      "source": [
        "#cuenta alreves sin cero sin contemplarlo\n",
        "miLista=[\"baka\", \"baka1\", \"baka2\"]\n",
        "print(miLista[-2])"
      ]
    },
    {
      "cell_type": "code",
      "execution_count": null,
      "metadata": {
        "id": "RkSgjc5Ocoso",
        "outputId": "9bda93da-ca82-4a8a-9ab4-0660e07d77dc"
      },
      "outputs": [
        {
          "name": "stdout",
          "output_type": "stream",
          "text": [
            "['mesa', 'coche']\n"
          ]
        }
      ],
      "source": [
        "#acceder a solo una porcion de la lista perimer numero llama de dercha a izquierda y el segundo de izquierda a derecha\n",
        "miLista=[\"silla\", \"mesa\", \"coche\", \"autobus\", \"sillon\"]\n",
        "print(miLista[1:3])"
      ]
    },
    {
      "cell_type": "code",
      "execution_count": null,
      "metadata": {
        "id": "8yz5XUBWcosp",
        "outputId": "0030e53c-ca41-4b48-c98b-2d996f10142c"
      },
      "outputs": [
        {
          "name": "stdout",
          "output_type": "stream",
          "text": [
            "['silla', 'mesa', 'coche']\n"
          ]
        }
      ],
      "source": [
        "#acceder a solo una porcion de la lista\n",
        "miLista=[\"silla\", \"mesa\", \"coche\", \"autobus\", \"sillon\"]\n",
        "print(miLista[:3])"
      ]
    },
    {
      "cell_type": "code",
      "execution_count": null,
      "metadata": {
        "id": "ID_AgigUcosq"
      },
      "outputs": [],
      "source": []
    },
    {
      "cell_type": "code",
      "execution_count": null,
      "metadata": {
        "id": "q8RVYtA8cosq",
        "outputId": "fe2f2483-e21b-454b-be8b-a717b7e76171"
      },
      "outputs": [
        {
          "name": "stdout",
          "output_type": "stream",
          "text": [
            "['coche', 'autobus', 'sillon', 'gallina', 'oso']\n"
          ]
        }
      ],
      "source": [
        "#acceder a solo una porcion de la lista\n",
        "miLista=[\"silla\", \"mesa\", \"coche\", \"autobus\", \"sillon\", \"gallina\",\"oso\"]\n",
        "print(miLista[2:])"
      ]
    },
    {
      "cell_type": "code",
      "execution_count": null,
      "metadata": {
        "id": "a_e2x_y1cosr",
        "outputId": "57763f93-fb8e-411f-df02-6f59b4e88361"
      },
      "outputs": [
        {
          "name": "stdout",
          "output_type": "stream",
          "text": [
            "['autobus', 'baka', 'manu', 'mesa', 'silla', 'casaprro']\n"
          ]
        }
      ],
      "source": [
        "#incerta en el centro uno mas\n",
        "miLista=[\"autobus\", \"baka\", \"mesa\", \"silla\",\"casa\" \"prro\"]\n",
        "miLista.insert(2,\"manu\")\n",
        "print(miLista[:])\n",
        ""
      ]
    },
    {
      "cell_type": "code",
      "execution_count": null,
      "metadata": {
        "id": "eV_BjDzzcoss",
        "outputId": "e87e7874-6897-4428-96ab-6c9c392b2c48"
      },
      "outputs": [
        {
          "name": "stdout",
          "output_type": "stream",
          "text": [
            "['sss', 'kj', 'k', 'kjhs', 'sljd']\n"
          ]
        }
      ],
      "source": []
    },
    {
      "cell_type": "code",
      "execution_count": null,
      "metadata": {
        "id": "guR0Xx6ecoss",
        "outputId": "1e544286-74fc-4e34-bf66-32e2a3056c6d"
      },
      "outputs": [
        {
          "name": "stdout",
          "output_type": "stream",
          "text": [
            "['autobus', 'baka', 'mesa', 'silla', 'casaprro', 'manu']\n"
          ]
        }
      ],
      "source": [
        "#incerta en el final uno mas\n",
        "miLista=[\"autobus\", \"baka\", \"mesa\", \"silla\",\"casa\" \"prro\"]\n",
        "miLista.append(\"manu\")\n",
        "print(miLista[:])"
      ]
    },
    {
      "cell_type": "code",
      "execution_count": null,
      "metadata": {
        "id": "M8lRyFMucost",
        "outputId": "794ac553-77aa-4be2-ee46-d736e6e0e326"
      },
      "outputs": [
        {
          "name": "stdout",
          "output_type": "stream",
          "text": [
            "['nxb', 'jkh', 'dk', 'fsd']\n"
          ]
        }
      ],
      "source": []
    },
    {
      "cell_type": "code",
      "execution_count": null,
      "metadata": {
        "id": "ZS6W2IoWcosu",
        "outputId": "6a41e8f4-3906-49e7-a5d8-a438bd87cf7e"
      },
      "outputs": [
        {
          "name": "stdout",
          "output_type": "stream",
          "text": [
            "['sos', 'uicab', 'mesa', 'manuel', 'prro', 'laptop', 'silla']\n"
          ]
        }
      ],
      "source": [
        "#icertar elementos a la lista original\n",
        "miLista=[\"sos\", \"uicab\", \"mesa\"]\n",
        "miLista.extend([\"manuel\", \"prro\", \"laptop\", \"silla\"])\n",
        "print(miLista[:])"
      ]
    },
    {
      "cell_type": "code",
      "execution_count": null,
      "metadata": {
        "id": "8ZQjGoYwcosu",
        "outputId": "6d7818c1-c9c8-4ecb-c77a-fc154c80e717"
      },
      "outputs": [
        {
          "name": "stdout",
          "output_type": "stream",
          "text": [
            "['SD', 'Sdsf', 'skdj', 'alkjd', 'skj']\n"
          ]
        }
      ],
      "source": []
    },
    {
      "cell_type": "code",
      "execution_count": null,
      "metadata": {
        "id": "lK8Oqlj2cosv",
        "outputId": "9a404605-df3f-4631-caeb-73d6400524a1"
      },
      "outputs": [
        {
          "name": "stdout",
          "output_type": "stream",
          "text": [
            "6\n"
          ]
        }
      ],
      "source": [
        "\n",
        "#saber donde esta el elemento osea el indice prro\n",
        "miLista=[\"sos\", \"uicab\", \"mesa\"]\n",
        "miLista.extend([\"manuel\", \"prro\", \"laptop\", \"silla\"])\n",
        "print(miLista.index(\"silla\"))\n"
      ]
    },
    {
      "cell_type": "code",
      "execution_count": null,
      "metadata": {
        "id": "6KPBvHK9cosw",
        "outputId": "9c07cb8c-a35c-49c7-b37d-5d1e7d3e9435"
      },
      "outputs": [
        {
          "name": "stdout",
          "output_type": "stream",
          "text": [
            "0\n"
          ]
        }
      ],
      "source": []
    },
    {
      "cell_type": "code",
      "execution_count": null,
      "metadata": {
        "id": "tD4S_X3ucosx",
        "outputId": "25dea152-0017-4673-9b17-0d30fb4fc090"
      },
      "outputs": [
        {
          "name": "stdout",
          "output_type": "stream",
          "text": [
            "True\n"
          ]
        }
      ],
      "source": [
        "#elemento que permite sbaer si un elemento esta en la lista o no\n",
        "miLista=[\"sos\", \"uicab\", \"mesa\"]\n",
        "miLista.extend([\"manuel\", \"prro\", \"laptop\", \"silla\"])\n",
        "print(\"mesa\" in miLista)"
      ]
    },
    {
      "cell_type": "code",
      "execution_count": null,
      "metadata": {
        "id": "2qDrObTVcosx",
        "outputId": "7656bc31-3bb2-4b80-e2e0-fc0ff265f71d"
      },
      "outputs": [
        {
          "name": "stdout",
          "output_type": "stream",
          "text": [
            "True\n"
          ]
        }
      ],
      "source": []
    },
    {
      "cell_type": "code",
      "execution_count": null,
      "metadata": {
        "id": "oolMoLWXcosy",
        "outputId": "4ea18252-9ad4-40e1-d12b-e73f8ddb27b6"
      },
      "outputs": [
        {
          "name": "stdout",
          "output_type": "stream",
          "text": [
            "true\n"
          ]
        }
      ],
      "source": [
        "#imprimir un solo elemento\n",
        "miLista=[\"sos\", \"7\", \"true\"]\n",
        "print(miLista[2])"
      ]
    },
    {
      "cell_type": "code",
      "execution_count": null,
      "metadata": {
        "id": "o92cTTzFcosz",
        "outputId": "93cb9173-25b7-42a0-8866-c55de572c86e"
      },
      "outputs": [
        {
          "name": "stdout",
          "output_type": "stream",
          "text": [
            "skjdh\n"
          ]
        }
      ],
      "source": [
        "g=[\"dffd\", \"fjdkn\", \"skjdh\"]\n",
        "g.extend([\"slduhg\"])\n",
        "print(g[2])"
      ]
    },
    {
      "cell_type": "code",
      "execution_count": null,
      "metadata": {
        "id": "h1nzCsz6cos0",
        "outputId": "05521987-6c00-491c-a3ff-a20d6ee86867"
      },
      "outputs": [
        {
          "name": "stdout",
          "output_type": "stream",
          "text": [
            "['sos', 5.3]\n"
          ]
        }
      ],
      "source": [
        "#remover un elemento(solo lo remueve sin comillas)\n",
        "miLista=[\"sos\", 5, 5.3,]\n",
        "miLista.remove(5)\n",
        "print(miLista[:])"
      ]
    },
    {
      "cell_type": "code",
      "execution_count": null,
      "metadata": {
        "id": "kEref67Ycos0",
        "outputId": "60f168e1-a8b6-4976-e040-24a12c5109c6"
      },
      "outputs": [
        {
          "name": "stdout",
          "output_type": "stream",
          "text": [
            "['sdsd', 21, 32, 23]\n"
          ]
        }
      ],
      "source": [
        "g=[\"sdsd\", 2, 21, 32, 23]\n",
        "g.remove(2)\n",
        "print(g[:])"
      ]
    },
    {
      "cell_type": "code",
      "execution_count": null,
      "metadata": {
        "id": "x-NwSHsucos1",
        "outputId": "1768cfc7-45dc-4bba-b4d0-3c013857515e"
      },
      "outputs": [
        {
          "name": "stdout",
          "output_type": "stream",
          "text": [
            "['sos', 5]\n"
          ]
        }
      ],
      "source": [
        "#remover un ultimo elemento\n",
        "miLista=[\"sos\", 5, 5.3,]\n",
        "miLista.pop()\n",
        "print(miLista[:])"
      ]
    },
    {
      "cell_type": "code",
      "execution_count": null,
      "metadata": {
        "id": "ApKdvkr-cos2",
        "outputId": "4faeae6b-67fe-4099-90fb-df1559ec640e"
      },
      "outputs": [
        {
          "name": "stdout",
          "output_type": "stream",
          "text": [
            "['sos', 5]\n"
          ]
        }
      ],
      "source": []
    },
    {
      "cell_type": "code",
      "execution_count": null,
      "metadata": {
        "id": "pd3cL15-cos4",
        "outputId": "f2d19355-9608-4b4f-c284-89e123e1f76e"
      },
      "outputs": [
        {
          "name": "stdout",
          "output_type": "stream",
          "text": [
            "('uicab', 'nariz', 'dulce', 'manu', 'uicab', 'nahuat')\n"
          ]
        }
      ],
      "source": [
        "#unir dos listas diferentes\n",
        "miLista=(\"uicab\", \"nariz\", \"dulce\")\n",
        "miLista2=(\"manu\", \"uicab\",\"nahuat\")\n",
        "miLista3=miLista+miLista2\n",
        "\n",
        "print(miLista3[:])"
      ]
    },
    {
      "cell_type": "code",
      "execution_count": null,
      "metadata": {
        "id": "axo9MrwDcos7",
        "outputId": "734dd54b-da21-4061-953f-acbb8d74f495"
      },
      "outputs": [
        {
          "name": "stdout",
          "output_type": "stream",
          "text": [
            "('dulce', 'teclado', 'uicab', 'tigre', 'dulce', 'teclado', 'uicab', 'tigre', 'dulce', 'teclado', 'uicab', 'tigre')\n"
          ]
        }
      ],
      "source": [
        "uicab=(\"dulce\", \"teclado\", \"uicab\", \"tigre\") *3\n",
        "print(uicab)\n"
      ]
    },
    {
      "cell_type": "code",
      "execution_count": null,
      "metadata": {
        "id": "ITcIsrhDcos8",
        "outputId": "19beb106-96c0-49ff-d9d7-780ea6f71649"
      },
      "outputs": [
        {
          "name": "stdout",
          "output_type": "stream",
          "text": [
            "('te', 'dulce', 'te', 'dulce', 'te', 'dulce', 'te', 'dulce', 'te', 'dulce', 'te', 'dulce', 'te', 'dulce', 'te', 'dulce', 'te', 'dulce', 'te', 'dulce', 'te', 'dulce', 'te', 'dulce', 'te', 'dulce', 'te', 'dulce', 'te', 'dulce', 'te', 'dulce', 'te', 'dulce', 'te', 'dulce', 'te', 'dulce', 'te', 'dulce', 'te', 'dulce', 'te', 'dulce', 'te', 'dulce')\n"
          ]
        }
      ],
      "source": [
        "uicab=(\"te\", \"dulce\") *23\n",
        "print(uicab[:])"
      ]
    },
    {
      "cell_type": "code",
      "execution_count": null,
      "metadata": {
        "id": "ojHy4TAGcos9"
      },
      "outputs": [],
      "source": [
        "r=[\"skjhb\", \"kdk\", \"kk\"] *30000000\n",
        "print(r)"
      ]
    },
    {
      "cell_type": "code",
      "execution_count": null,
      "metadata": {
        "id": "tIMK_nIUcos-",
        "outputId": "4fa33310-69a5-4e56-9402-f7a7c72d0ba6"
      },
      "outputs": [
        {
          "name": "stdout",
          "output_type": "stream",
          "text": [
            "['smd', 'd']\n"
          ]
        }
      ],
      "source": []
    },
    {
      "cell_type": "code",
      "execution_count": null,
      "metadata": {
        "id": "mnzvdYHNcos_"
      },
      "outputs": [],
      "source": []
    }
  ],
  "metadata": {
    "kernelspec": {
      "display_name": "Python 3",
      "language": "python",
      "name": "python3"
    },
    "language_info": {
      "codemirror_mode": {
        "name": "ipython",
        "version": 3
      },
      "file_extension": ".py",
      "mimetype": "text/x-python",
      "name": "python",
      "nbconvert_exporter": "python",
      "pygments_lexer": "ipython3",
      "version": "3.7.4"
    },
    "colab": {
      "provenance": []
    }
  },
  "nbformat": 4,
  "nbformat_minor": 0
}