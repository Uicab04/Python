{
 "cells": [
  {
   "cell_type": "code",
   "execution_count": 1,
   "metadata": {},
   "outputs": [
    {
     "name": "stdout",
     "output_type": "stream",
     "text": [
      "('manu', 'uicab', '3')\n"
     ]
    }
   ],
   "source": [
    "mitupla=(\"manu\", \"uicab\", \"3\")\n",
    "print(mitupla)"
   ]
  },
  {
   "cell_type": "code",
   "execution_count": 2,
   "metadata": {},
   "outputs": [
    {
     "name": "stdout",
     "output_type": "stream",
     "text": [
      "3\n"
     ]
    }
   ],
   "source": [
    "mitupla=(\"manu\", \"uicab\", \"3\")\n",
    "print(mitupla[2])"
   ]
  },
  {
   "cell_type": "code",
   "execution_count": 3,
   "metadata": {},
   "outputs": [
    {
     "name": "stdout",
     "output_type": "stream",
     "text": [
      "['nariz', 'uicab', 'oso', 'baka']\n"
     ]
    }
   ],
   "source": [
    "#convertir una tupla a lista (sabemos que es una lista por los corchetes en el resultado)\n",
    "\n",
    "mitupla=(\"nariz\", \"uicab\", \"oso\", \"baka\")\n",
    "milista=list(mitupla)\n",
    "print(milista)"
   ]
  },
  {
   "cell_type": "code",
   "execution_count": 4,
   "metadata": {},
   "outputs": [
    {
     "name": "stdout",
     "output_type": "stream",
     "text": [
      "['uicab', 'nose', 'baka', 'manu']\n",
      "('uicab', 'nose', 'baka', 'manu')\n"
     ]
    }
   ],
   "source": [
    "#convertir una lista a tupla\n",
    "\n",
    "milista=[1, \"uicab\", \"nose\", \"baka\"]\n",
    "milista.extend([\"manu\"])\n",
    "milista.remove(1)\n",
    "mitupla=tuple(milista)\n",
    "print(milista)\n",
    "print(mitupla) #este es"
   ]
  },
  {
   "cell_type": "code",
   "execution_count": 5,
   "metadata": {},
   "outputs": [
    {
     "name": "stdout",
     "output_type": "stream",
     "text": [
      "True\n"
     ]
    }
   ],
   "source": [
    "#consultar un elemento si se ecuentra en la tupla\n",
    "\n",
    "milista=[1, \"uicab\", \"nose\", \"baka\"]\n",
    "mitupla=tuple(milista)\n",
    "print(\"uicab\" in mitupla)"
   ]
  },
  {
   "cell_type": "code",
   "execution_count": 6,
   "metadata": {},
   "outputs": [
    {
     "name": "stdout",
     "output_type": "stream",
     "text": [
      "2\n",
      "1\n"
     ]
    }
   ],
   "source": [
    "#para qe cuente cuantas veses se repite un elemento dentro de una tupla\n",
    "\n",
    "mitupla=(\"uicab\", \"nahuat\", \"uicab\", \"victor\")\n",
    "print(mitupla.count(\"uicab\"))\n",
    "print(mitupla.count(\"nahuat\"))"
   ]
  },
  {
   "cell_type": "code",
   "execution_count": 7,
   "metadata": {},
   "outputs": [
    {
     "name": "stdout",
     "output_type": "stream",
     "text": [
      "3\n"
     ]
    }
   ],
   "source": [
    "#para saver cuantos elementos hay en una tupla\n",
    "mitupla=(\"uicab\", \"nahuat\", \"gato\")\n",
    "print(len(mitupla))"
   ]
  },
  {
   "cell_type": "code",
   "execution_count": 8,
   "metadata": {},
   "outputs": [
    {
     "name": "stdout",
     "output_type": "stream",
     "text": [
      "('uicab', 'nahuat', 'victor', 'nigno')\n"
     ]
    }
   ],
   "source": [
    "#empaquetado de tupla\n",
    "\n",
    "mitupla=\"uicab\", \"nahuat\", \"victor\", \"nigno\"\n",
    "print(mitupla)"
   ]
  },
  {
   "cell_type": "code",
   "execution_count": 11,
   "metadata": {},
   "outputs": [
    {
     "ename": "SyntaxError",
     "evalue": "invalid token (<ipython-input-11-6badc0c1a6e7>, line 3)",
     "output_type": "error",
     "traceback": [
      "\u001b[1;36m  File \u001b[1;32m\"<ipython-input-11-6badc0c1a6e7>\"\u001b[1;36m, line \u001b[1;32m3\u001b[0m\n\u001b[1;33m    mitupla=(\"VICTOR MANUEL UICAB NAHUAT\", 04, 04, 2001)\u001b[0m\n\u001b[1;37m                                            ^\u001b[0m\n\u001b[1;31mSyntaxError\u001b[0m\u001b[1;31m:\u001b[0m invalid token\n"
     ]
    }
   ],
   "source": [
    "##desempaqueado de tupla\n",
    "\n",
    "mitupla=(\"VICTOR MANUEL UICAB NAHUAT\", 04, 04, 2001)\n",
    "nombre, dia, mes, agno=mitupla\n",
    "print(nombre)\n",
    "print(dia)\n",
    "print(mes)\n",
    "print(agno)\n"
   ]
  },
  {
   "cell_type": "code",
   "execution_count": null,
   "metadata": {},
   "outputs": [],
   "source": []
  },
  {
   "cell_type": "code",
   "execution_count": null,
   "metadata": {},
   "outputs": [],
   "source": [
    "#DICCIONARIOS"
   ]
  },
  {
   "cell_type": "code",
   "execution_count": 12,
   "metadata": {},
   "outputs": [
    {
     "name": "stdout",
     "output_type": "stream",
     "text": [
      "Berlín\n",
      "Madrid\n",
      "{'Alemania': 'Berlín', 'Francia': 'París', 'España': 'Madrid'}\n"
     ]
    }
   ],
   "source": [
    "#consultar estados y capitales\n",
    "\n",
    "midiccionario={\"Alemania\":\"Berlín\",\"Francia\":\"París\",\"España\":\"Madrid\"}\n",
    "print(midiccionario[\"Alemania\"])\n",
    "print(midiccionario[\"España\"])\n",
    "\n",
    "#acceder a todo el diccionario\n",
    "print(midiccionario)\n"
   ]
  },
  {
   "cell_type": "code",
   "execution_count": null,
   "metadata": {},
   "outputs": [],
   "source": [
    "#AGREGAR A LA LISTA MAS..\n",
    "\n",
    "midiccionario={\"Alemania\":\"Berlin\", \"Francia\":\"Paris\", \"Esaña\":\"Madrid\"}\n",
    "midiccionario[\"Italia\"]=\"Lisboa\"\n",
    "print(midiccionario) #NOSE POR QUE SE ORDENO"
   ]
  },
  {
   "cell_type": "code",
   "execution_count": null,
   "metadata": {},
   "outputs": [],
   "source": [
    "dic={\"1\":\"a\", \"2\":\"b\"}\n",
    "dic[\"3\"]=\"c\"\n",
    "\n",
    "print(len(dic))"
   ]
  },
  {
   "cell_type": "code",
   "execution_count": null,
   "metadata": {},
   "outputs": [],
   "source": [
    "#CAMIAR PARAMETROS condrome avanzamos\n",
    "\n",
    "midiccionario={\"Alemania\":\"Berlin\", \"Francia\":\"Paris\"}\n",
    "midiccionario[\"Espagnia\"]=\"Juarez\"\n",
    "print(midiccionario)\n",
    "midiccionario[\"Espagnia\"]=\"Madrid\"\n",
    "print(midiccionario)"
   ]
  },
  {
   "cell_type": "code",
   "execution_count": null,
   "metadata": {},
   "outputs": [],
   "source": [
    "#eliminar parejas del diccionario\n",
    "\n",
    "midiccionario={\"Alemania\":\"Berlin\", \"Francia\":\"Paris\"}\n",
    "del midiccionario[\"Alemania\"]\n",
    "print(midiccionario)"
   ]
  },
  {
   "cell_type": "code",
   "execution_count": null,
   "metadata": {},
   "outputs": [],
   "source": [
    "#unir una tupla con un diccionario llamandolo\n",
    "\n",
    "mitupla=[\"espagnia\", \"francia\", \"reino unido\", \"alemania\"]\n",
    "midiccionario={mitupla[0]:\"madrid\", mitupla[1]:\"paris\", mitupla[2]:\"londres\", mitupla[3]:\"berlin\"}\n",
    "print(midiccionario)\n",
    "print(midiccionario[\"francia\"])\n",
    "print(\"baka\" in midiccionario) #busca si baka esta e la tupa"
   ]
  },
  {
   "cell_type": "code",
   "execution_count": null,
   "metadata": {},
   "outputs": [],
   "source": [
    "#almacenar ua tupla en el diccionario\n",
    "\n",
    "midiccionario={23:\"jordan\", \"nombre\":\"michel\", \"equipo\":\"chicago\", \"anillo\":[1992,1993,1994,1996]}\n",
    "print(midiccionario[\"anillo\"])"
   ]
  },
  {
   "cell_type": "code",
   "execution_count": null,
   "metadata": {},
   "outputs": [],
   "source": [
    "#almacenar un diccionario en un diccionario\n",
    "\n",
    "midiccionario={23:\"jordan\", \"nombre\":\"michel\", \"equipo\":\"chicago\", \"anillo\":{\"jornadas\":[1992,1993,1994,1996]}}\n",
    "print(midiccionario[\"anillo\"])"
   ]
  },
  {
   "cell_type": "code",
   "execution_count": null,
   "metadata": {},
   "outputs": [],
   "source": [
    "#para saver solo las palabras clave o los valores que asigna\n",
    "\n",
    "midiccionario={23:\"jordan\", \"nombre\":\"michel\", \"equipo\":\"chicago\", \"anillo\":{\"jornadas\":[1992,1993,1994,1996]}}\n",
    "print(midiccionario.keys())\n",
    "print(midiccionario.values())\n",
    "print(len(midiccionario)) #saver cuantas claves de invocacion tiene\n",
    "print(midiccionario[\"anillo\"])\n"
   ]
  },
  {
   "cell_type": "code",
   "execution_count": null,
   "metadata": {},
   "outputs": [],
   "source": [
    "dic={\"a\":2, \"b\":3, \"c\":{\"jorna\":[2, 5, 8, 3]}}\n",
    "print(dic.keys())\n",
    "print(dic.values())\n",
    "print(len(dic))\n",
    "print(dic[\"c\"])"
   ]
  }
 ],
 "metadata": {
  "kernelspec": {
   "display_name": "Python 3",
   "language": "python",
   "name": "python3"
  },
  "language_info": {
   "codemirror_mode": {
    "name": "ipython",
    "version": 3
   },
   "file_extension": ".py",
   "mimetype": "text/x-python",
   "name": "python",
   "nbconvert_exporter": "python",
   "pygments_lexer": "ipython3",
   "version": "3.7.4"
  }
 },
 "nbformat": 4,
 "nbformat_minor": 2
}
