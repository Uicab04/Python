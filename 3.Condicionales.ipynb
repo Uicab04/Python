{
 "cells": [
  {
   "cell_type": "code",
   "execution_count": 2,
   "metadata": {},
   "outputs": [
    {
     "name": "stdout",
     "output_type": "stream",
     "text": [
      "aprovado\n"
     ]
    }
   ],
   "source": [
    "#saber si se cumpla la condicion que es menos que 5 y reprovarlo\n",
    "\n",
    "def evaluacion(nota):\n",
    "    valoracion=\"aprovado\"\n",
    "    if nota<5:\n",
    "        valoracion=\"reprovado\"\n",
    "    return valoracion\n",
    "print(evaluacion(5))"
   ]
  },
  {
   "cell_type": "code",
   "execution_count": null,
   "metadata": {},
   "outputs": [],
   "source": []
  },
  {
   "cell_type": "code",
   "execution_count": 14,
   "metadata": {},
   "outputs": [
    {
     "name": "stdout",
     "output_type": "stream",
     "text": [
      "evaluacion de los alumnos 2019\n",
      "escriba la calificacion del alumno: 7\n",
      "aprovado\n"
     ]
    }
   ],
   "source": [
    "#la persona interactua con la lista proporcionandole un valor y k esta proporcionada la transforme en valor enteros\n",
    "\n",
    "print(\"evaluacion de los alumnos 2019\")\n",
    "notas_alumnos=input(\"escriba la calificacion del alumno: \")\n",
    "def evaluacion(nota):\n",
    "    valoracion=\"aprovado\"\n",
    "    if nota<5:\n",
    "        valoracion=\"reprovado\"\n",
    "    return valoracion\n",
    "print(evaluacion(int(notas_alumnos)))"
   ]
  },
  {
   "cell_type": "code",
   "execution_count": null,
   "metadata": {},
   "outputs": [],
   "source": [
    "\n",
    "    "
   ]
  },
  {
   "cell_type": "code",
   "execution_count": 5,
   "metadata": {},
   "outputs": [
    {
     "name": "stdout",
     "output_type": "stream",
     "text": [
      "verificacion de acceso\n",
      "introduce tu edad8\n",
      "no pudes pasar\n"
     ]
    }
   ],
   "source": [
    "#Verificar la edad para ver si pasa\n",
    "print(\"verificacion de acceso\")\n",
    "edad_usuario=int(input(\"introduce tu edad\"))\n",
    "if edad_usuario<18:\n",
    "    print(\"no pudes pasar\")\n",
    "else: #si no ace el primer print ase este pero no los dos\n",
    "    print(\"si puedes pasar\")"
   ]
  },
  {
   "cell_type": "code",
   "execution_count": null,
   "metadata": {},
   "outputs": [],
   "source": []
  },
  {
   "cell_type": "code",
   "execution_count": 6,
   "metadata": {},
   "outputs": [
    {
     "name": "stdout",
     "output_type": "stream",
     "text": [
      "verificacion de acceso\n",
      "introduce tu edad prr9\n",
      "no puedes pasar prro\n"
     ]
    }
   ],
   "source": [
    "#verificar si la edad es mayor a 100 pero menor que 18 entonces no podria pasar\n",
    "print(\"verificacion de acceso\")\n",
    "edad_usuario=int(input(\"introduce tu edad prr\"))\n",
    "if edad_usuario<18:\n",
    "    print(\"no puedes pasar prro\")\n",
    "elif edad_usuario>100: \n",
    "    print(\"esto es un error de edad\")\n",
    "else:\n",
    "    print(\"si puedes pasar prro\")"
   ]
  },
  {
   "cell_type": "code",
   "execution_count": 7,
   "metadata": {},
   "outputs": [
    {
     "name": "stdout",
     "output_type": "stream",
     "text": [
      "evaluacion de alumnos\n",
      "introduce aqui tu calificacion: 9\n",
      "exelente\n"
     ]
    }
   ],
   "source": [
    "#responderle al alumno segun su calificacion\n",
    "\n",
    "print(\"evaluacion de alumnos\")\n",
    "nota_alumno=int(input(\"introduce aqui tu calificacion: \"))\n",
    "\n",
    "if nota_alumno<5:\n",
    "    print(\"insuficiente\")\n",
    "     \n",
    "elif nota_alumno<6:  #nose por que no funcionan todos los modulos\n",
    "    print(\"suficiente\")\n",
    "    \n",
    "elif nota_alumno<7:\n",
    "    print(\"bueno\")\n",
    "    \n",
    "elif nota_alumno<9:\n",
    "    print(\"muy bueno\")\n",
    "    \n",
    "else:\n",
    "    print(\"exelente\")"
   ]
  },
  {
   "cell_type": "code",
   "execution_count": null,
   "metadata": {},
   "outputs": [],
   "source": []
  }
 ],
 "metadata": {
  "kernelspec": {
   "display_name": "Python 3",
   "language": "python",
   "name": "python3"
  },
  "language_info": {
   "codemirror_mode": {
    "name": "ipython",
    "version": 3
   },
   "file_extension": ".py",
   "mimetype": "text/x-python",
   "name": "python",
   "nbconvert_exporter": "python",
   "pygments_lexer": "ipython3",
   "version": "3.7.4"
  }
 },
 "nbformat": 4,
 "nbformat_minor": 2
}
