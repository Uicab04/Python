{
 "cells": [
  {
   "cell_type": "code",
   "execution_count": 16,
   "metadata": {},
   "outputs": [
    {
     "name": "stdout",
     "output_type": "stream",
     "text": [
      "edad incorrecta\n"
     ]
    }
   ],
   "source": [
    "#verificar edad mayor que 0 pero menor que 100\n",
    "\n",
    "edad=-5\n",
    "if 0<edad<100:\n",
    "    print(\"edad correcta\")\n",
    "else:\n",
    "    print(\"edad incorrecta\")\n",
    "    "
   ]
  },
  {
   "cell_type": "code",
   "execution_count": 7,
   "metadata": {},
   "outputs": [
    {
     "name": "stdout",
     "output_type": "stream",
     "text": [
      "no pasas\n"
     ]
    }
   ],
   "source": []
  },
  {
   "cell_type": "code",
   "execution_count": 18,
   "metadata": {},
   "outputs": [
    {
     "name": "stdout",
     "output_type": "stream",
     "text": [
      "escribe la edad: -12\n",
      "edad incorrecta\n"
     ]
    }
   ],
   "source": [
    "#interactuar con el usuario\n",
    "\n",
    "manu=input(\"escribe la edad: \")\n",
    "edad=int(manu)\n",
    "if 0<edad<100:\n",
    "    print(\"edad correcta\")\n",
    "else:\n",
    "    print(\"edad incorrecta\")"
   ]
  },
  {
   "cell_type": "code",
   "execution_count": 8,
   "metadata": {},
   "outputs": [
    {
     "name": "stdout",
     "output_type": "stream",
     "text": [
      "describe: 7\n",
      "uicab\n"
     ]
    }
   ],
   "source": []
  },
  {
   "cell_type": "code",
   "execution_count": 31,
   "metadata": {},
   "outputs": [
    {
     "name": "stdout",
     "output_type": "stream",
     "text": [
      "saver que todo marcha bien con los salarios dentro de la empresa\n",
      "salario presidente 7\n",
      "su salario es: 7\n",
      "salario director 6\n",
      "el salario es: 6\n",
      "salario jefe 9\n",
      "el salario es: 9\n",
      "salario admin 4\n",
      "el salario es: 4\n",
      "algo anda mal con la empresa\n"
     ]
    }
   ],
   "source": [
    "#salarios\n",
    "\n",
    "print(\"saver que todo marcha bien con los salarios dentro de la empresa\")\n",
    "\n",
    "presidente=int(input(\"salario presidente \"))\n",
    "print(\"su salario es: \" + str(presidente))\n",
    "\n",
    "director=int(input(\"salario director \"))\n",
    "print(\"el salario es: \" + str(director))\n",
    "\n",
    "jefe=int(input(\"salario jefe \"))\n",
    "print(\"el salario es: \" + str(jefe))\n",
    "\n",
    "admin=int(input(\"salario admin \"))\n",
    "print(\"el salario es: \" + str(admin))\n",
    "\n",
    "if admin<jefe<director<presidente:\n",
    "    print(\"todo bien en la empresa\")\n",
    "else:\n",
    "    print(\"algo anda mal con la empresa\")"
   ]
  },
  {
   "cell_type": "code",
   "execution_count": 3,
   "metadata": {},
   "outputs": [
    {
     "name": "stdout",
     "output_type": "stream",
     "text": [
      "salarios de todos los dias de esta empresa: \n",
      "escribe salario limpiador: 7\n",
      "escribe el salario del jefe: 2\n",
      "no puede el de aseo lipiar y ganar mas que el gfecitoo :3\n"
     ]
    }
   ],
   "source": []
  },
  {
   "cell_type": "code",
   "execution_count": 9,
   "metadata": {},
   "outputs": [
    {
     "name": "stdout",
     "output_type": "stream",
     "text": [
      "introdusca los datos para saber si tendras beca\n",
      "introduce la distancia de la escuela en km 45\n",
      "45\n",
      "introduce el numero de hermanos que tienes 4\n",
      "4\n",
      "introduce salario anual3000000\n",
      "3000000\n",
      "si recibiras beca prro\n"
     ]
    }
   ],
   "source": [
    "#beca\n",
    "print(\"introdusca los datos para saber si tendras beca\")\n",
    "\n",
    "distancia_escuela=int(input(\"introduce la distancia de la escuela en km \"))\n",
    "print(distancia_escuela)\n",
    "\n",
    "numero_hermanos=int(input(\"introduce el numero de hermanos que tienes \"))\n",
    "print(numero_hermanos)\n",
    "\n",
    "salario_familiar=int(input(\"introduce salario anual\"))\n",
    "print(salario_familiar)\n",
    "\n",
    "if distancia_escuela>40 and numero_hermanos>2 or salario_familiar<=20000:\n",
    "    print(\"si recibiras beca prro\")\n",
    "else:\n",
    "    print(\"no recibiras beca\")"
   ]
  },
  {
   "cell_type": "code",
   "execution_count": null,
   "metadata": {},
   "outputs": [],
   "source": []
  },
  {
   "cell_type": "code",
   "execution_count": null,
   "metadata": {},
   "outputs": [
    {
     "name": "stdout",
     "output_type": "stream",
     "text": [
      "CURSO DE LA RECUPERACION DEL CURSO\n",
      "los cursos que puedes elegir son: ingles, algebra, administracion\n"
     ]
    }
   ],
   "source": [
    "#saber que asignatura de mas, cursara el aluano que reprobo :3\n",
    "\n",
    "print(\"CURSO DE LA RECUPERACION DEL CURSO\")\n",
    "print(\"los cursos que puedes elegir son: ingles, algebra, administracion\")\n",
    "\n",
    "proceso=input(\"ingresa el curso que te interesa: \")\n",
    "\n",
    "curso_elegido=proceso.lower()\n",
    "\n",
    "if curso_elegido in (\"ingles\", \"algebra\", \"administracion\"):\n",
    "    print(\"asignatura elegida es: \" + curso_elegido)\n",
    "    \n",
    "else:\n",
    "    print(\"no esta esa asignatura\")"
   ]
  },
  {
   "cell_type": "code",
   "execution_count": null,
   "metadata": {},
   "outputs": [],
   "source": []
  }
 ],
 "metadata": {
  "kernelspec": {
   "display_name": "Python 3",
   "language": "python",
   "name": "python3"
  },
  "language_info": {
   "codemirror_mode": {
    "name": "ipython",
    "version": 3
   },
   "file_extension": ".py",
   "mimetype": "text/x-python",
   "name": "python",
   "nbconvert_exporter": "python",
   "pygments_lexer": "ipython3",
   "version": "3.7.4"
  }
 },
 "nbformat": 4,
 "nbformat_minor": 2
}
