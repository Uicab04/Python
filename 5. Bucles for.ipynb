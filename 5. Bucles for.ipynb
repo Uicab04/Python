{
 "cells": [
  {
   "cell_type": "code",
   "execution_count": 1,
   "metadata": {
    "scrolled": true
   },
   "outputs": [
    {
     "name": "stdout",
     "output_type": "stream",
     "text": [
      "hola baka\n",
      "hola baka\n",
      "hola baka\n",
      "hola baka\n"
     ]
    }
   ],
   "source": [
    "#bucle determinado for\n",
    "\n",
    "for i in [\"primavera\", \"verano\", \"otoño\", \"invierno\"]:\n",
    "    print(\"hola baka\")\n",
    "    "
   ]
  },
  {
   "cell_type": "code",
   "execution_count": 6,
   "metadata": {},
   "outputs": [
    {
     "name": "stdout",
     "output_type": "stream",
     "text": [
      "primavera\n",
      "verano\n",
      "otoño\n",
      "invierno\n"
     ]
    }
   ],
   "source": [
    "#solo imprime el bucle\n",
    "for i in [\"primavera\", \"verano\", \"otoño\", \"invierno\"]:\n",
    "    print(i)"
   ]
  },
  {
   "cell_type": "code",
   "execution_count": 7,
   "metadata": {},
   "outputs": [
    {
     "name": "stdout",
     "output_type": "stream",
     "text": [
      "baka baka hiwa hiwa sushi sushi "
     ]
    }
   ],
   "source": [
    "#controlar la impresion juntandolo y separandolo poco\n",
    "\n",
    "for i in [\"baka\", \"hiwa\", \"sushi\"]:\n",
    "    print(i, end=\" \")\n",
    "    print(i, end=\" \")"
   ]
  },
  {
   "cell_type": "code",
   "execution_count": null,
   "metadata": {},
   "outputs": [],
   "source": []
  },
  {
   "cell_type": "code",
   "execution_count": 18,
   "metadata": {},
   "outputs": [
    {
     "name": "stdout",
     "output_type": "stream",
     "text": [
      "baka baka baka baka baka baka baka baka baka baka baka baka baka baka baka baka baka baka baka baka baka baka baka baka baka baka baka "
     ]
    }
   ],
   "source": [
    "#hacer el bucle de cuantas letras haya en el correo\n",
    "\n",
    "for i in \"victoruicabnahuat@gmail.com\":\n",
    "    print(\"baka\", end=\" \")"
   ]
  },
  {
   "cell_type": "code",
   "execution_count": 5,
   "metadata": {},
   "outputs": [
    {
     "name": "stdout",
     "output_type": "stream",
     "text": [
      "sos sos sos sos sos sos sos sos sos sos sos sos sos sos sos sos sos sos "
     ]
    }
   ],
   "source": []
  },
  {
   "cell_type": "code",
   "execution_count": 5,
   "metadata": {},
   "outputs": [
    {
     "name": "stdout",
     "output_type": "stream",
     "text": [
      "El Email es correcto\n"
     ]
    }
   ],
   "source": [
    "# para comprovar si un email es correcto solo con agregar @\n",
    "\n",
    "email=False\n",
    "\n",
    "for i in \"victoruicabnahuat@gmail.com\":\n",
    "    if(i==\"@\"):\n",
    "        email=True\n",
    "if email==True:\n",
    "    print(\"El Email es correcto\")\n",
    "else:\n",
    "    print(\"el Email es incorrecto\")"
   ]
  },
  {
   "cell_type": "code",
   "execution_count": 9,
   "metadata": {},
   "outputs": [
    {
     "name": "stdout",
     "output_type": "stream",
     "text": [
      "coreo: asda@\n",
      "mail correcto\n"
     ]
    }
   ],
   "source": []
  },
  {
   "cell_type": "code",
   "execution_count": 51,
   "metadata": {},
   "outputs": [
    {
     "name": "stdout",
     "output_type": "stream",
     "text": [
      "intruduce tu correo electronico aqui: uicabnahuatnahuat010404\n",
      "el correo es incorrecto\n"
     ]
    }
   ],
   "source": [
    "# verificar si el mail es correcto mediante interaccion_usuario\n",
    "\n",
    "email=False\n",
    "miemail=input(\"intruduce tu correo electronico aqui: \")\n",
    "\n",
    "for i in miemail:\n",
    "    if(i==\"@\"):\n",
    "        email=True\n",
    "if email:\n",
    "    print(\"el correo es correcto\")\n",
    "else:\n",
    "    print(\"el correo es incorrecto\")"
   ]
  },
  {
   "cell_type": "code",
   "execution_count": 24,
   "metadata": {},
   "outputs": [
    {
     "name": "stdout",
     "output_type": "stream",
     "text": [
      "escribe tu email carnal: uicab@gmail.com\n",
      "el email es correcto prro\n"
     ]
    }
   ],
   "source": [
    "# evaluando el email con punto tambien\n",
    "\n",
    "contador=0\n",
    "miemail=input(\"escribe tu email: \")\n",
    "\n",
    "for i in miemail:\n",
    "    if(i==\"@\" or i==\".\"):\n",
    "        contador=contador+1\n",
    "if contador>=2:\n",
    "    print(\"el email es correcto prro\")\n",
    "else:\n",
    "    print(\"el imail es incorrecto\")"
   ]
  },
  {
   "cell_type": "code",
   "execution_count": 15,
   "metadata": {},
   "outputs": [
    {
     "name": "stdout",
     "output_type": "stream",
     "text": [
      "coreo: sss\n",
      "incorrecto broh\n"
     ]
    }
   ],
   "source": []
  },
  {
   "cell_type": "code",
   "execution_count": 78,
   "metadata": {},
   "outputs": [
    {
     "name": "stdout",
     "output_type": "stream",
     "text": [
      "baka baka baka baka baka baka baka baka baka baka "
     ]
    }
   ],
   "source": [
    "# tipo range\n",
    "\n",
    "for i in range(10):\n",
    "    print(\"baka\", end=\" \")"
   ]
  },
  {
   "cell_type": "code",
   "execution_count": 17,
   "metadata": {},
   "outputs": [
    {
     "name": "stdout",
     "output_type": "stream",
     "text": [
      "uicab uicab uicab uicab uicab uicab uicab uicab "
     ]
    }
   ],
   "source": []
  },
  {
   "cell_type": "code",
   "execution_count": 12,
   "metadata": {},
   "outputs": [
    {
     "name": "stdout",
     "output_type": "stream",
     "text": [
      "0\n",
      "1\n",
      "2\n"
     ]
    }
   ],
   "source": [
    "for i in range(3):\n",
    "    print(i)"
   ]
  },
  {
   "cell_type": "code",
   "execution_count": null,
   "metadata": {},
   "outputs": [],
   "source": []
  },
  {
   "cell_type": "code",
   "execution_count": 43,
   "metadata": {},
   "outputs": [
    {
     "name": "stdout",
     "output_type": "stream",
     "text": [
      "valor 0\n",
      "valor 1\n",
      "valor 2\n",
      "valor 3\n"
     ]
    }
   ],
   "source": [
    "# bucles con nombre\n",
    "for i in range(4):\n",
    "    print(f\"valor {i}\")"
   ]
  },
  {
   "cell_type": "code",
   "execution_count": null,
   "metadata": {},
   "outputs": [],
   "source": []
  },
  {
   "cell_type": "code",
   "execution_count": 45,
   "metadata": {},
   "outputs": [
    {
     "name": "stdout",
     "output_type": "stream",
     "text": [
      "valor 5\n",
      "valor 6\n",
      "valor 7\n",
      "valor 8\n",
      "valor 9\n"
     ]
    }
   ],
   "source": [
    "# de numero a numero\n",
    "for i in range(5, 10):\n",
    "    print(f\"valor {i}\")"
   ]
  },
  {
   "cell_type": "code",
   "execution_count": 24,
   "metadata": {},
   "outputs": [
    {
     "name": "stdout",
     "output_type": "stream",
     "text": [
      "valor 3\n",
      "valor 5\n",
      "valor 7\n",
      "valor 9\n",
      "valor 11\n",
      "valor 13\n",
      "valor 15\n",
      "valor 17\n",
      "valor 19\n",
      "valor 21\n",
      "valor 23\n",
      "valor 25\n",
      "valor 27\n",
      "valor 29\n"
     ]
    }
   ],
   "source": [
    "# rangos de empiezo exacto y segui multiplicando\n",
    "\n",
    "for i in range(3, 30, 2):\n",
    "    print(f\"valor {i}\")"
   ]
  },
  {
   "cell_type": "code",
   "execution_count": 34,
   "metadata": {},
   "outputs": [
    {
     "name": "stdout",
     "output_type": "stream",
     "text": [
      "numero 2    numero 11    numero 20    numero 29    numero 38    "
     ]
    }
   ],
   "source": [
    "for i in range(2, 40, 9):\n",
    "    print(f\"numero {i}\", end=\"    \")"
   ]
  },
  {
   "cell_type": "code",
   "execution_count": 1,
   "metadata": {},
   "outputs": [
    {
     "data": {
      "text/plain": [
       "5"
      ]
     },
     "execution_count": 1,
     "metadata": {},
     "output_type": "execute_result"
    }
   ],
   "source": [
    "# conteo de letras\n",
    "len(\"uicab\")"
   ]
  },
  {
   "cell_type": "code",
   "execution_count": null,
   "metadata": {},
   "outputs": [],
   "source": []
  }
 ],
 "metadata": {
  "kernelspec": {
   "display_name": "Python 3",
   "language": "python",
   "name": "python3"
  },
  "language_info": {
   "codemirror_mode": {
    "name": "ipython",
    "version": 3
   },
   "file_extension": ".py",
   "mimetype": "text/x-python",
   "name": "python",
   "nbconvert_exporter": "python",
   "pygments_lexer": "ipython3",
   "version": "3.7.4"
  }
 },
 "nbformat": 4,
 "nbformat_minor": 2
}
