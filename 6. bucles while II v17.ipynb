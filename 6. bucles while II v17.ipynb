{
 "cells": [
  {
   "cell_type": "code",
   "execution_count": 18,
   "metadata": {},
   "outputs": [
    {
     "name": "stdout",
     "output_type": "stream",
     "text": [
      "ejecucion 0\n",
      "ejecucion 1\n",
      "ejecucion 2\n",
      "ejecucion 3\n",
      "ejecucion 4\n",
      "ejecucion 5\n",
      "ejecucion 6\n",
      "ejecucion 7\n",
      "ejecucion 8\n",
      "ejecucion 9\n",
      "ejecucion 10\n",
      "termino la ejecucuion\n"
     ]
    }
   ],
   "source": [
    "# while=mientras si le quito i=i+1 es infinito\n",
    "\n",
    "i=0\n",
    "\n",
    "while i<=10:\n",
    "    print(\"ejecucion \" + str(i))\n",
    "    i=i+1\n",
    "    \n",
    "print(\"termino la ejecucuion\")\n"
   ]
  },
  {
   "cell_type": "code",
   "execution_count": null,
   "metadata": {},
   "outputs": [],
   "source": []
  },
  {
   "cell_type": "code",
   "execution_count": 7,
   "metadata": {},
   "outputs": [
    {
     "name": "stdout",
     "output_type": "stream",
     "text": [
      "itroduce la edad we: 3\n",
      "la edad es correcta:  3\n"
     ]
    }
   ],
   "source": [
    "#asta que pongas la edad correctca se cierra el bucle\n",
    "\n",
    "edad=int(input(\"itroduce la edad we: \"))\n",
    "\n",
    "while edad<0:\n",
    "    print(\"edad incorrecta vuelve a intentarlo\")\n",
    "    edad=int(input(\"introduce la edad prro :3\"))\n",
    "print(\"la edad es correcta: \", + edad)"
   ]
  },
  {
   "cell_type": "code",
   "execution_count": null,
   "metadata": {},
   "outputs": [],
   "source": []
  },
  {
   "cell_type": "code",
   "execution_count": 10,
   "metadata": {},
   "outputs": [
    {
     "name": "stdout",
     "output_type": "stream",
     "text": [
      "edad: 21\n",
      "la edad corecta es:  21\n"
     ]
    }
   ],
   "source": [
    "e=int(input(\"edad: \"))\n",
    "while e<0:\n",
    "    print(\"incorrecto\")\n",
    "    e=int(input(\"edad: \"))\n",
    "print(\"la edad corecta es: \", str(e))"
   ]
  },
  {
   "cell_type": "code",
   "execution_count": null,
   "metadata": {},
   "outputs": [],
   "source": []
  },
  {
   "cell_type": "code",
   "execution_count": 6,
   "metadata": {},
   "outputs": [
    {
     "name": "stdout",
     "output_type": "stream",
     "text": [
      "itroduce la edad we: -32\n",
      "edad incorrecta vuelve a intentarlo\n",
      "la edad es 300\n",
      "edad incorrecta vuelve a intentarlo\n",
      "la edad es 14\n",
      "no puedes pasar\n"
     ]
    }
   ],
   "source": [
    "# saber si es valido la edad negativamente o mas de 100 y si tiene menos de 18 no pasa\n",
    "\n",
    "edad=int(input(\"itroduce la edad we: \"))\n",
    "\n",
    "\n",
    "while edad<0 or edad>100:\n",
    "    print(\"edad incorrecta vuelve a intentarlo\")\n",
    "    edad=int(input(\"la edad es \"))\n",
    "\n",
    "if edad<18:\n",
    "    print(\"no puedes pasar\")\n",
    "    \n",
    "else:\n",
    "    print(\"puedes pasar\")\n",
    "    \n"
   ]
  },
  {
   "cell_type": "code",
   "execution_count": null,
   "metadata": {},
   "outputs": [],
   "source": []
  },
  {
   "cell_type": "code",
   "execution_count": 5,
   "metadata": {},
   "outputs": [
    {
     "name": "stdout",
     "output_type": "stream",
     "text": [
      "programa para determinar la raiz cuadrada\n",
      "Escribe el numero a radicar: 2\n",
      "la solucion a 2 es 1.4142135623730951\n"
     ]
    }
   ],
   "source": [
    "# ejemplo while en un programa de raiz cuadrada\n",
    "import math\n",
    "\n",
    "print(\"programa para determinar la raiz cuadrada\")\n",
    "numero=int(input(\"Escribe el numero a radicar: \"))\n",
    "\n",
    "intentos=0\n",
    "    \n",
    "while numero<0:\n",
    "    print(\"no se puede ayar negativos\")\n",
    "    \n",
    "    if intentos==2:\n",
    "        print(\"exediste el numero de veses\")\n",
    "        break;\n",
    "    numero=int(input(\"escribe el numero a radicar: \"))\n",
    "    if numero<0:\n",
    "        intentos=intentos+1\n",
    "    \n",
    "if intentos<2:\n",
    "    solucion=math.sqrt(numero)\n",
    "    print (\"la solucion a \" + str(numero) + \" es \" + str(solucion))\n",
    "\n",
    "    "
   ]
  },
  {
   "cell_type": "code",
   "execution_count": null,
   "metadata": {},
   "outputs": [],
   "source": [
    "import math print(\"radicales\") ma=int(input(\"numero a redicar:\")) intento=3 while ma<0: print(\"incorrect\") ma=int(input(\"numero a redicar:\")) if intentos==2: print(\"exediste el numero de veces\") break; print(\"edad incorrecta\") ma=int(input(\"numero a redicar:\")) intento=intento+1 if intento<2: solucion=math.sqrt(ma) print(solucion)"
   ]
  },
  {
   "cell_type": "markdown",
   "metadata": {},
   "source": [
    "import math\n",
    "print(\"radicales\")\n",
    "ma=int(input(\"numero a redicar:\"))\n",
    "intento=3\n",
    "while ma<0:\n",
    "    print(\"incorrect\")\n",
    "    ma=int(input(\"numero a redicar:\"))\n",
    "    if intentos==2:\n",
    "        print(\"exediste el numero de veces\")\n",
    "        break;\n",
    "    print(\"edad incorrecta\")\n",
    "    ma=int(input(\"numero a redicar:\"))\n",
    "    intento=intento+1\n",
    "if intento<2:\n",
    "    solucion=math.sqrt(ma)\n",
    "print(solucion)\n",
    " "
   ]
  },
  {
   "cell_type": "code",
   "execution_count": 7,
   "metadata": {},
   "outputs": [
    {
     "data": {
      "text/plain": [
       "1.4142135623730951"
      ]
     },
     "execution_count": 7,
     "metadata": {},
     "output_type": "execute_result"
    }
   ],
   "source": [
    "math.sqrt(2)"
   ]
  },
  {
   "cell_type": "code",
   "execution_count": 22,
   "metadata": {},
   "outputs": [
    {
     "data": {
      "text/plain": [
       "float"
      ]
     },
     "execution_count": 22,
     "metadata": {},
     "output_type": "execute_result"
    }
   ],
   "source": [
    "e=5.9\n",
    "type(e)"
   ]
  }
 ],
 "metadata": {
  "kernelspec": {
   "display_name": "Python 3",
   "language": "python",
   "name": "python3"
  },
  "language_info": {
   "codemirror_mode": {
    "name": "ipython",
    "version": 3
   },
   "file_extension": ".py",
   "mimetype": "text/x-python",
   "name": "python",
   "nbconvert_exporter": "python",
   "pygments_lexer": "ipython3",
   "version": "3.7.4"
  }
 },
 "nbformat": 4,
 "nbformat_minor": 2
}
