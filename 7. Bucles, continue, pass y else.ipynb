{
 "cells": [
  {
   "cell_type": "code",
   "execution_count": 29,
   "metadata": {},
   "outputs": [
    {
     "name": "stdout",
     "output_type": "stream",
     "text": [
      "viendo la letra: p\n",
      "viendo la letra: y\n",
      "viendo la letra: t\n",
      "viendo la letra: o\n",
      "viendo la letra: n\n"
     ]
    }
   ],
   "source": [
    "# quitar una letra a la impresion\n",
    "\n",
    "for letra in \"python\":\n",
    "    if letra==\"h\":\n",
    "        continue\n",
    "    print(\"viendo la letra: \" + letra)"
   ]
  },
  {
   "cell_type": "code",
   "execution_count": null,
   "metadata": {},
   "outputs": [],
   "source": []
  },
  {
   "cell_type": "code",
   "execution_count": 19,
   "metadata": {},
   "outputs": [
    {
     "name": "stdout",
     "output_type": "stream",
     "text": [
      "27\n"
     ]
    }
   ],
   "source": [
    "# contador que ignora separados\n",
    "\n",
    "manu=\"mi nombre es manuel uicab nahuat\"\n",
    "\n",
    "contador=0\n",
    "for i in manu:\n",
    "    if i==\" \":\n",
    "        continue\n",
    "    contador+=1\n",
    "\n",
    "print(contador)"
   ]
  },
  {
   "cell_type": "code",
   "execution_count": null,
   "metadata": {},
   "outputs": [],
   "source": [
    "\n"
   ]
  },
  {
   "cell_type": "code",
   "execution_count": null,
   "metadata": {},
   "outputs": [],
   "source": [
    "class miClase:\n",
    "    pass #para implementar mas tarde"
   ]
  },
  {
   "cell_type": "code",
   "execution_count": 26,
   "metadata": {},
   "outputs": [
    {
     "name": "stdout",
     "output_type": "stream",
     "text": [
      "itroduce tu email: iuas@asj.vom\n",
      "False\n"
     ]
    }
   ],
   "source": [
    "# evauacion de un programa de correo que verifique que tenga \"@\"\n",
    "\n",
    "email=input(\"itroduce tu email: \")\n",
    "for i in email:\n",
    "    if i==\"@\"  i==\".\":\n",
    "        arroba=True\n",
    "        break;\n",
    "        \n",
    "else:\n",
    "    arroba=False\n",
    "\n",
    "print(arroba)"
   ]
  },
  {
   "cell_type": "code",
   "execution_count": null,
   "metadata": {},
   "outputs": [],
   "source": [
    "# evauacion de un programa de correo que verifique que tenga \"@\"\n",
    "\n",
    "email=input(\"itroduce tu email: \")\n",
    "for i in email:\n",
    "    if i==\"@\":\n",
    "        arroba=True\n",
    "        break;\n",
    "        \n",
    "else:\n",
    "    arroba=False\n",
    "\n",
    "print(arroba)"
   ]
  },
  {
   "cell_type": "code",
   "execution_count": null,
   "metadata": {},
   "outputs": [],
   "source": [
    "e=input(\"correo: \")\n",
    "for i in e"
   ]
  }
 ],
 "metadata": {
  "kernelspec": {
   "display_name": "Python 3",
   "language": "python",
   "name": "python3"
  },
  "language_info": {
   "codemirror_mode": {
    "name": "ipython",
    "version": 3
   },
   "file_extension": ".py",
   "mimetype": "text/x-python",
   "name": "python",
   "nbconvert_exporter": "python",
   "pygments_lexer": "ipython3",
   "version": "3.7.4"
  }
 },
 "nbformat": 4,
 "nbformat_minor": 2
}
