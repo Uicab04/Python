{
 "cells": [
  {
   "cell_type": "code",
   "execution_count": 4,
   "metadata": {},
   "outputs": [
    {
     "name": "stdout",
     "output_type": "stream",
     "text": [
      "[2, 4, 6, 8, 10, 12, 14, 16, 18, 20, 22, 24, 26, 28, 30, 32, 34, 36]\n"
     ]
    }
   ],
   "source": [
    "#genera una lista de numeros pares\n",
    "def generador(limite):\n",
    "    \n",
    "    num=1\n",
    "    milista=[]\n",
    "    while num<limite:\n",
    "        milista.append(num*2)\n",
    "        num+=1\n",
    "    return milista\n",
    "print(generador(19))\n",
    "   "
   ]
  },
  {
   "cell_type": "code",
   "execution_count": null,
   "metadata": {},
   "outputs": [],
   "source": []
  },
  {
   "cell_type": "code",
   "execution_count": 29,
   "metadata": {},
   "outputs": [],
   "source": [
    "#lista de numeros pares igual pero utilizando yield\n",
    "def generador(limite):\n",
    "    \n",
    "    num=1\n",
    "    while num<limite:\n",
    "        yield num*2\n",
    "        num+=1\n",
    "Rdevuelvepapers=generador(10)\n",
    "\n",
    "for i in devuelvepapers:\n",
    "    print(i)"
   ]
  },
  {
   "cell_type": "code",
   "execution_count": 32,
   "metadata": {},
   "outputs": [
    {
     "name": "stdout",
     "output_type": "stream",
     "text": [
      "2\n",
      "4\n",
      "6\n",
      "8\n",
      "10\n",
      "12\n",
      "14\n",
      "16\n",
      "18\n",
      "20\n",
      "22\n",
      "24\n",
      "26\n",
      "28\n",
      "30\n",
      "32\n",
      "34\n",
      "36\n",
      "38\n"
     ]
    }
   ],
   "source": []
  },
  {
   "cell_type": "code",
   "execution_count": 33,
   "metadata": {},
   "outputs": [
    {
     "name": "stdout",
     "output_type": "stream",
     "text": [
      "[2, 4, 6, 8, 10, 12, 14, 16, 18, 20, 22, 24, 26, 28, 30, 32, 34, 36]\n"
     ]
    }
   ],
   "source": [
    "def a(l):\n",
    "    m=1\n",
    "    lis=[]\n",
    "    while m<l:\n",
    "        lis.append(m*2)\n",
    "        m+=1\n",
    "    return lis\n",
    "print(a(19))"
   ]
  },
  {
   "cell_type": "code",
   "execution_count": 39,
   "metadata": {},
   "outputs": [
    {
     "name": "stdout",
     "output_type": "stream",
     "text": [
      "2\n",
      "aqui podria ir mas codigo...\n",
      "4\n",
      "mas y mas prits\n",
      "6\n"
     ]
    }
   ],
   "source": [
    "# hacerque se llamen uno por uno las funciones mediante un print -h. click al print\n",
    "\n",
    "def lista(limite):\n",
    "    num=1\n",
    "    while num<limite:\n",
    "        yield num*2\n",
    "        num+=1\n",
    "values=lista(10)\n",
    "\n",
    "print(next(values))\n",
    "print(\"aqui podria ir mas codigo...\")\n",
    "print(next(values))\n",
    "print(\"mas y mas prits\")\n",
    "print(next(values))"
   ]
  },
  {
   "cell_type": "code",
   "execution_count": null,
   "metadata": {},
   "outputs": [],
   "source": []
  }
 ],
 "metadata": {
  "kernelspec": {
   "display_name": "Python 3",
   "language": "python",
   "name": "python3"
  },
  "language_info": {
   "codemirror_mode": {
    "name": "ipython",
    "version": 3
   },
   "file_extension": ".py",
   "mimetype": "text/x-python",
   "name": "python",
   "nbconvert_exporter": "python",
   "pygments_lexer": "ipython3",
   "version": "3.7.4"
  }
 },
 "nbformat": 4,
 "nbformat_minor": 2
}
