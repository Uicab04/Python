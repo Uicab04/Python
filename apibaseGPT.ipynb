{
  "nbformat": 4,
  "nbformat_minor": 0,
  "metadata": {
    "colab": {
      "provenance": [],
      "authorship_tag": "ABX9TyO/s82BZUP8antpjW+MTOUd",
      "include_colab_link": true
    },
    "kernelspec": {
      "name": "python3",
      "display_name": "Python 3"
    },
    "language_info": {
      "name": "python"
    }
  },
  "cells": [
    {
      "cell_type": "markdown",
      "metadata": {
        "id": "view-in-github",
        "colab_type": "text"
      },
      "source": [
        "<a href=\"https://colab.research.google.com/github/Uicab04/Python/blob/main/apibaseGPT.ipynb\" target=\"_parent\"><img src=\"https://colab.research.google.com/assets/colab-badge.svg\" alt=\"Open In Colab\"/></a>"
      ]
    },
    {
      "cell_type": "code",
      "execution_count": null,
      "metadata": {
        "id": "DsH_Y-R0LQh6"
      },
      "outputs": [],
      "source": []
    },
    {
      "cell_type": "code",
      "source": [
        "pip install openai"
      ],
      "metadata": {
        "id": "4uOP1BLsLR6n"
      },
      "execution_count": null,
      "outputs": []
    },
    {
      "cell_type": "code",
      "source": [
        "\n",
        "api_key_oculta = ''\n",
        "\n",
        "# Importar la clase OpenAI del módulo openai\n",
        "from openai import OpenAI\n",
        "\n",
        "# Definir la clave de la API (se muestra como oculta)\n",
        "api_key = api_key_oculta\n",
        "\n",
        "# Crear una instancia del cliente OpenAI con la clave de la API\n",
        "client = OpenAI(api_key=api_key)\n",
        "\n",
        "# Crear una solicitud de completado de chat con el modelo \"gpt-3.5-turbo\"\n",
        "completion = client.chat.completions.create(\n",
        "    model=\"gpt-3.5-turbo\",\n",
        "    messages=[\n",
        "        {\"role\": \"system\", \"content\": \"You are a helpful assistant.\"},\n",
        "        {\"role\": \"user\", \"content\": \"what are the fundamentals of software engineering\"}\n",
        "    ]\n",
        ")\n",
        "\n",
        "# Obtener solo el texto del mensaje de salida del completado\n",
        "output_text = completion.choices[0].message.content\n",
        "\n",
        "# Imprimir solo el texto de salida\n",
        "print(output_text)\n"
      ],
      "metadata": {
        "id": "Sa6euatZLSIL"
      },
      "execution_count": null,
      "outputs": []
    }
  ]
}